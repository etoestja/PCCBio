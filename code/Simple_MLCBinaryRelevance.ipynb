{
 "cells": [
  {
   "cell_type": "markdown",
   "metadata": {},
   "source": [
    "# Reading the data"
   ]
  },
  {
   "cell_type": "code",
   "execution_count": null,
   "metadata": {
    "collapsed": false
   },
   "outputs": [],
   "source": [
    "# basic imports\n",
    "import csv\n",
    "import numpy as np\n",
    "%matplotlib inline\n",
    "import matplotlib.pyplot as plt\n",
    "\n",
    "dataPath = \"../data/\""
   ]
  },
  {
   "cell_type": "code",
   "execution_count": null,
   "metadata": {
    "collapsed": false
   },
   "outputs": [],
   "source": [
    "# reading CSV file\n",
    "reader = csv.reader(open(dataPath + 'features_2.csv', 'r'), delimiter=',')\n",
    "data_full = np.array(list(reader))\n",
    "reader = csv.reader(open(dataPath + 'all_endpoints_with_missing_values_012615.csv', 'r'), delimiter=',')\n",
    "activity_full = np.array(list(reader))"
   ]
  },
  {
   "cell_type": "code",
   "execution_count": null,
   "metadata": {
    "collapsed": false
   },
   "outputs": [],
   "source": [
    "# feature names\n",
    "feature_names = data_full[0, 1:]\n",
    "\n",
    "# names of the proteins\n",
    "protein_names = data_full[1:, 0]\n",
    "protein_names1 = activity_full[1:, 0]\n",
    "print 'Protein names equality check:', np.array_equal(protein_names1, protein_names)\n",
    "\n",
    "# names of receptors\n",
    "receptor_names = activity_full[0, 1:]\n",
    "\n",
    "# Object-Feature matrix (proteins description)\n",
    "X = data_full[1:, 1:].astype('double')\n",
    "\n",
    "# Activity matrix\n",
    "Y = activity_full[1:, 1:].astype('int16')\n",
    "\n",
    "# Removing constant features\n",
    "ind = np.var(X, axis = 0) != 0\n",
    "X = X[:, ind]\n",
    "feature_names = feature_names[ind]\n",
    "\n",
    "# Number of features\n",
    "N = X.shape[1]"
   ]
  },
  {
   "cell_type": "code",
   "execution_count": null,
   "metadata": {
    "collapsed": false
   },
   "outputs": [],
   "source": [
    "print receptor_names"
   ]
  },
  {
   "cell_type": "markdown",
   "metadata": {
    "collapsed": true
   },
   "source": [
    "# Training classifiers and printing results"
   ]
  },
  {
   "cell_type": "code",
   "execution_count": null,
   "metadata": {
    "collapsed": true
   },
   "outputs": [],
   "source": [
    "from sklearn.linear_model import LogisticRegression as LR\n",
    "from sklearn.metrics import roc_curve, auc\n",
    "from sklearn.cross_validation import StratifiedKFold as SKF"
   ]
  },
  {
   "cell_type": "code",
   "execution_count": null,
   "metadata": {
    "collapsed": true
   },
   "outputs": [],
   "source": [
    "def getXY(classToTrain, X, Y, badValue = 999):\n",
    "    \"\"\"\n",
    "    Get objects and answers for class classToTrain\n",
    "    for which answers are available\n",
    "    \"\"\"\n",
    "    \n",
    "    haveAnswersObjectsIndices = np.where(Y[:, classToTrain] != badValue)\n",
    "    classX = X[haveAnswersObjectsIndices, :][0]\n",
    "    classY = Y[haveAnswersObjectsIndices, classToTrain][0]\n",
    "    return classX, classY"
   ]
  },
  {
   "cell_type": "code",
   "execution_count": null,
   "metadata": {
    "collapsed": true
   },
   "outputs": [],
   "source": [
    "def showROCCurve(fpr, tpr, auc_mean, auc_std, filename):\n",
    "    \"\"\"\n",
    "    Plot a ROC curve from fpr, tpr\n",
    "    \"\"\"\n",
    "    \n",
    "    plt.rcParams['mathtext.fontset'] = 'stix'\n",
    "    plt.rcParams['font.family'] = 'STIXGeneral'\n",
    "    params = {'text.usetex' : True,\n",
    "          'font.size' : 15,\n",
    "#          'font.family' : 'lmodern',\n",
    "          'text.latex.unicode': True}\n",
    "    plt.rcParams.update(params) \n",
    "    plt.plot(fpr, tpr, label = None)\n",
    "    plt.plot([0, 1], [0, 1], 'k--')\n",
    "    plt.xlim([0.0, 1.0])\n",
    "    plt.ylim([0.0, 1.05])\n",
    "    plt.xlabel('FPR', fontsize=15)\n",
    "    plt.ylabel('TPR', fontsize=15)\n",
    "    plt.tick_params(axis='both', which='major')\n",
    "    auc_mean = '%.2g' % auc_mean\n",
    "    auc_std = '%.1g' % auc_std\n",
    "    plt.title(r\"AUC $= %s\\,\\pm\\,%s$\" % (auc_mean, auc_std), fontsize=15)\n",
    "    plt.savefig(filename + \".eps\", bbox_inches = 'tight')\n",
    "    plt.show()"
   ]
  },
  {
   "cell_type": "code",
   "execution_count": null,
   "metadata": {
    "collapsed": false
   },
   "outputs": [],
   "source": [
    "def getROCCurve(XTrain, XTest, YTrain, YTest):\n",
    "    \"\"\"\n",
    "    Train classifier and return fpr, tpr\n",
    "    \"\"\"\n",
    "    \n",
    "    # Learn to predict the class\n",
    "    classifier = LR()\n",
    "    classifier.fit(XTrain, YTrain)\n",
    "\n",
    "    # get predicted probabilities for class\n",
    "    YScore = classifier.predict_proba(XTest)[:, 1]\n",
    "\n",
    "    # calculate fpr and tpr\n",
    "    fpr, tpr, _ = roc_curve(YTest, YScore)\n",
    "    return(fpr, tpr)"
   ]
  },
  {
   "cell_type": "code",
   "execution_count": null,
   "metadata": {
    "collapsed": false
   },
   "outputs": [],
   "source": [
    "def showClass(currentClass, X, Y, folds):\n",
    "    \"\"\"\n",
    "    Split data, train classifiers, get AUC Array, show chart\n",
    "    \"\"\"\n",
    "    # get objects and answers with existing answers\n",
    "    XClass, YClass = getXY(currentClass, X, Y)\n",
    "\n",
    "    # get folds-fold cross validation split indices\n",
    "    IFolds = SKF(YClass, folds)\n",
    "    \n",
    "    roc_auc = list()\n",
    "    for ITrain, ITest in IFolds:\n",
    "        # get train & test data\n",
    "        XTrain, YTrain = XClass[ITrain], YClass[ITrain]\n",
    "        XTest,  YTest  = XClass[ITest],  YClass[ITest]\n",
    "        \n",
    "        # train classifier\n",
    "        # get FPR, TPR\n",
    "        fpr, tpr = getROCCurve(XTrain, XTest, YTrain, YTest)\n",
    "        \n",
    "        # get AUC value\n",
    "        roc_auc.append(auc(fpr, tpr))\n",
    "        \n",
    "    showROCCurve(fpr, tpr, np.mean(roc_auc), np.std(roc_auc), \"class%d\" % (currentClass + 1))"
   ]
  },
  {
   "cell_type": "code",
   "execution_count": null,
   "metadata": {
    "collapsed": false,
    "scrolled": false
   },
   "outputs": [],
   "source": [
    "folds = 5\n",
    "for currentClass in range(Y.shape[1]):\n",
    "    showClass(currentClass, X, Y, folds)"
   ]
  },
  {
   "cell_type": "code",
   "execution_count": null,
   "metadata": {
    "collapsed": true
   },
   "outputs": [],
   "source": [
    "def printClassStatistics(currentClass, X, Y):\n",
    "    ans_1 = len(np.where(Y[:, currentClass] == 1)[0])\n",
    "    ans_0 = len(np.where(Y[:, currentClass] == 0)[0])\n",
    "    ans_none = len(np.where(Y[:, currentClass] == 999)[0])\n",
    "    total = Y.shape[0]\n",
    "    \n",
    "    #print(\"Class %d TOTAL=%d ONES=%d (%.2g %%) ZEROS=%d (%.2g %%) KNOWN=%d (%.2g %%)\" % (currentClass + 1,\n",
    "    #                                                                                     total, ans_1, 100. * ans_1 / total,\n",
    "    #                                                                                     ans_0, 100. * ans_0 / total,\n",
    "    #                                                                                     ans_0 + ans_1,\n",
    "    #                                                                                     100. * (ans_0 + ans_1) / total))\n",
    "    texStr=\"{\\\\tt %s}\\n& $\\mathbf{%d}\\, (%d \\%%)$\\n& $\\mathbf{%d}\\, (%d \\%%)$\\n& $\\mathbf{%d}\\, (%d \\%%)$\\\\\\\\\\n\"\n",
    "    print(texStr % (receptor_names[currentClass], ans_none, 100 * ans_none / total,\n",
    "                    ans_0, 100 * ans_0 / total,\n",
    "                   ans_1, 100 * ans_1 / total))"
   ]
  },
  {
   "cell_type": "code",
   "execution_count": null,
   "metadata": {
    "collapsed": false
   },
   "outputs": [],
   "source": [
    "for currentClass in range(Y.shape[1]):\n",
    "    printClassStatistics(currentClass, X, Y)"
   ]
  }
 ],
 "metadata": {
  "kernelspec": {
   "display_name": "Python 2",
   "language": "python",
   "name": "python2"
  },
  "language_info": {
   "codemirror_mode": {
    "name": "ipython",
    "version": 2
   },
   "file_extension": ".py",
   "mimetype": "text/x-python",
   "name": "python",
   "nbconvert_exporter": "python",
   "pygments_lexer": "ipython2",
   "version": "2.7.9"
  }
 },
 "nbformat": 4,
 "nbformat_minor": 0
}
