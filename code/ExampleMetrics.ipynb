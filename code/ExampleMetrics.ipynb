{
 "cells": [
  {
   "cell_type": "code",
   "execution_count": 1,
   "metadata": {
    "collapsed": true
   },
   "outputs": [],
   "source": [
    "import numpy as np\n",
    "from pandas import DataFrame as df"
   ]
  },
  {
   "cell_type": "code",
   "execution_count": 138,
   "metadata": {
    "collapsed": true
   },
   "outputs": [],
   "source": [
    "shape=(5000,5)\n",
    "# true\n",
    "Y1=(np.sign(np.random.random(shape)-0.5)+1)/2\n",
    "# predicted\n",
    "Y2=(np.sign(np.random.random(shape)-0.5)+1)/2"
   ]
  },
  {
   "cell_type": "code",
   "execution_count": 139,
   "metadata": {
    "collapsed": false
   },
   "outputs": [],
   "source": [
    "def Psi(TP, FP, TN, FN):\n",
    "    x = 2. * TP\n",
    "    y = (2 * TP + FN + FP)\n",
    "    return x / y\n",
    "#    return TN + TP"
   ]
  },
  {
   "cell_type": "code",
   "execution_count": 140,
   "metadata": {
    "collapsed": true
   },
   "outputs": [],
   "source": [
    "# micro-averaging\n",
    "# inner sum by objects and labels\n",
    "# no outer sum\n",
    "def micro(Y1, Y2, Psi):\n",
    "    TP = np.sum((Y1 == 1) & (Y2 == 1))\n",
    "    FP = np.sum((Y1 == 0) & (Y2 == 1))\n",
    "    TN = np.sum((Y1 == 0) & (Y2 == 0))\n",
    "    FN = np.sum((Y1 == 1) & (Y2 == 0))\n",
    "\n",
    "    micro = Psi(TP, FP, TN, FN)\n",
    "    return micro"
   ]
  },
  {
   "cell_type": "code",
   "execution_count": 141,
   "metadata": {
    "collapsed": true
   },
   "outputs": [],
   "source": [
    "# macro-averaging\n",
    "# inner sum by objects\n",
    "# outer sum by labels\n",
    "def macro(Y1, Y2, Psi):\n",
    "    TP = np.sum((Y1 == 1) & (Y2 == 1), axis = 0)\n",
    "    FP = np.sum((Y1 == 0) & (Y2 == 1), axis = 0)\n",
    "    TN = np.sum((Y1 == 0) & (Y2 == 0), axis = 0)\n",
    "    FN = np.sum((Y1 == 1) & (Y2 == 0), axis = 0)\n",
    "\n",
    "    macro = np.mean(Psi(TP, FP, TN, FN))\n",
    "    return macro"
   ]
  },
  {
   "cell_type": "code",
   "execution_count": 142,
   "metadata": {
    "collapsed": false
   },
   "outputs": [],
   "source": [
    "# instance-averaging\n",
    "# inner sum by labels\n",
    "# outer sum by objects\n",
    "def instance(Y1, Y2, Psi):\n",
    "    TP = np.sum((Y1 == 1) & (Y2 == 1), axis = 1)\n",
    "    FP = np.sum((Y1 == 0) & (Y2 == 1), axis = 1)\n",
    "    TN = np.sum((Y1 == 0) & (Y2 == 0), axis = 1)\n",
    "    FN = np.sum((Y1 == 1) & (Y2 == 0), axis = 1)\n",
    "    arr = Psi(TP, FP, TN, FN)\n",
    "    arr = arr[~np.isnan(arr)]\n",
    "    instance = np.mean(arr)\n",
    "    return instance"
   ]
  },
  {
   "cell_type": "code",
   "execution_count": 143,
   "metadata": {
    "collapsed": false
   },
   "outputs": [
    {
     "name": "stdout",
     "output_type": "stream",
     "text": [
      "0.500342203792\n",
      "0.500279938362\n",
      "0.44479212393\n"
     ]
    }
   ],
   "source": [
    "print micro(Y1, Y2, Psi)\n",
    "print macro(Y1, Y2, Psi)\n",
    "print instance(Y1, Y2, Psi)"
   ]
  },
  {
   "cell_type": "code",
   "execution_count": 128,
   "metadata": {
    "collapsed": false
   },
   "outputs": [
    {
     "data": {
      "text/plain": [
       "(array([[ 1.,  0.,  1.,  0.,  1.],\n",
       "        [ 1.,  0.,  1.,  0.,  0.],\n",
       "        [ 1.,  1.,  1.,  1.,  0.],\n",
       "        ..., \n",
       "        [ 1.,  1.,  0.,  1.,  0.],\n",
       "        [ 1.,  1.,  0.,  1.,  1.],\n",
       "        [ 1.,  0.,  0.,  1.,  0.]]), array([[ 0.,  0.,  0.,  0.,  0.],\n",
       "        [ 1.,  0.,  1.,  1.,  1.],\n",
       "        [ 1.,  0.,  1.,  1.,  1.],\n",
       "        ..., \n",
       "        [ 1.,  1.,  1.,  0.,  1.],\n",
       "        [ 1.,  1.,  0.,  0.,  1.],\n",
       "        [ 1.,  1.,  1.,  0.,  1.]]))"
      ]
     },
     "execution_count": 128,
     "metadata": {},
     "output_type": "execute_result"
    }
   ],
   "source": [
    "Y1, Y2"
   ]
  },
  {
   "cell_type": "code",
   "execution_count": 130,
   "metadata": {
    "collapsed": false
   },
   "outputs": [
    {
     "data": {
      "text/plain": [
       "array([2, 1, 0, 3, 4, 3, 1, 1, 0, 1, 0, 3, 3, 0, 2, 2, 1, 0, 2, 0, 1, 1, 3,\n",
       "       1, 0, 0, 0, 1, 2, 2, 0, 3, 1, 1, 2, 2, 0, 3, 2, 2, 2, 1, 2, 0, 2, 2,\n",
       "       1, 0, 2, 1, 1, 3, 1, 0, 2, 1, 2, 2, 0, 1, 2, 0, 2, 0, 1, 2, 1, 1, 1,\n",
       "       0, 0, 1, 2, 0, 3, 0, 2, 0, 1, 2, 2, 4, 1, 0, 3, 1, 3, 4, 2, 2, 3, 1,\n",
       "       1, 2, 2, 2, 1, 2, 1, 0, 0, 1, 2, 0, 2, 2, 1, 1, 1, 1, 0, 1, 0, 1, 1,\n",
       "       0, 2, 3, 1, 0, 2, 3, 0, 2, 1, 0, 0, 0, 1, 2, 1, 2, 1, 0, 1, 1, 1, 1,\n",
       "       0, 1, 1, 1, 1, 1, 2, 1, 1, 2, 1, 1, 2, 3, 2, 0, 1, 2, 0, 3, 2, 1, 2,\n",
       "       3, 0, 2, 2, 0, 1, 0, 1, 2, 2, 1, 3, 3, 1, 2, 1, 0, 1, 0, 1, 1, 1, 1,\n",
       "       3, 0, 0, 2, 1, 3, 0, 1, 1, 1, 2, 0, 2, 0, 1, 1, 0, 1, 1, 1, 1, 1, 2,\n",
       "       1, 2, 1, 2, 2, 2, 5, 1, 1, 2, 1, 1, 2, 1, 3, 3, 1, 1, 3, 2, 0, 3, 0,\n",
       "       1, 1, 3, 1, 2, 2, 2, 0, 0, 0, 1, 0, 3, 1, 2, 1, 1, 1, 2, 1, 0, 2, 1,\n",
       "       1, 1, 3, 2, 2, 2, 1, 1, 3, 1, 1, 4, 0, 1, 2, 1, 1, 0, 1, 1, 3, 1, 1,\n",
       "       1, 1, 2, 1, 2, 2, 4, 2, 1, 1, 1, 2, 2, 2, 1, 2, 1, 0, 0, 1, 2, 0, 1,\n",
       "       2, 1, 1, 1, 1, 1, 2, 3, 2, 0, 0, 2, 3, 1, 3, 3, 1, 1, 0, 2, 1, 2, 2,\n",
       "       3, 1, 2, 1, 2, 0, 0, 1, 0, 2, 2, 0, 1, 1, 1, 0, 0, 1, 2, 1, 1, 3, 0,\n",
       "       1, 2, 2, 0, 4, 3, 2, 0, 1, 1, 0, 2, 1, 2, 3, 1, 0, 1, 1, 2, 1, 1, 3,\n",
       "       2, 0, 2, 2, 0, 1, 1, 1, 1, 0, 5, 1, 1, 2, 1, 0, 2, 2, 1, 3, 2, 1, 2,\n",
       "       2, 1, 2, 2, 1, 1, 1, 2, 1, 1, 1, 3, 3, 0, 1, 0, 2, 0, 1, 1, 1, 2, 0,\n",
       "       2, 0, 0, 1, 1, 2, 1, 2, 2, 2, 3, 1, 1, 1, 1, 0, 2, 0, 1, 1, 3, 0, 2,\n",
       "       1, 1, 0, 1, 1, 1, 1, 1, 1, 2, 2, 1, 1, 3, 1, 2, 2, 0, 1, 0, 4, 1, 1,\n",
       "       1, 4, 3, 2, 1, 0, 0, 3, 2, 2, 0, 2, 2, 2, 0, 2, 0, 2, 2, 1, 3, 2, 3,\n",
       "       1, 1, 1, 4, 2, 2, 1, 2, 0, 1, 3, 1, 2, 2, 2, 2, 2, 1, 2, 0, 1, 1, 1,\n",
       "       0, 2, 1, 1, 3, 1, 3, 1, 3, 2, 1, 1, 3, 2, 0, 1, 1, 0, 0, 0, 1, 1, 0,\n",
       "       1, 2, 2, 0, 2, 1, 0, 1, 0, 0, 2, 0, 0, 1, 0, 3, 3, 3, 1, 1, 3, 1, 1,\n",
       "       0, 0, 1, 2, 2, 1, 0, 0, 2, 0, 1, 2, 1, 3, 2, 1, 1, 1, 2, 1, 1, 1, 1,\n",
       "       1, 1, 2, 1, 1, 0, 2, 1, 1, 1, 2, 3, 2, 0, 1, 0, 3, 0, 0, 1, 0, 0, 3,\n",
       "       1, 1, 1, 0, 1, 2, 3, 2, 1, 0, 1, 0, 1, 0, 3, 1, 0, 2, 2, 2, 1, 1, 2,\n",
       "       2, 0, 2, 1, 0, 1, 1, 0, 0, 3, 1, 0, 0, 3, 1, 1, 1, 1, 1, 3, 1, 1, 2,\n",
       "       0, 2, 0, 1, 3, 2, 1, 3, 2, 1, 0, 1, 1, 2, 1, 3, 2, 1, 1, 1, 2, 0, 2,\n",
       "       2, 1, 0, 1, 1, 1, 3, 1, 1, 0, 0, 0, 3, 2, 0, 0, 1, 1, 1, 2, 2, 1, 2,\n",
       "       2, 1, 0, 0, 1, 1, 1, 1, 1, 1, 0, 0, 1, 2, 4, 1, 1, 2, 1, 1, 1, 2, 2,\n",
       "       0, 0, 1, 2, 0, 4, 1, 1, 0, 1, 1, 1, 2, 1, 1, 1, 2, 1, 0, 3, 1, 3, 4,\n",
       "       0, 1, 0, 1, 0, 1, 3, 1, 2, 2, 1, 2, 3, 0, 0, 2, 2, 2, 1, 2, 0, 0, 0,\n",
       "       1, 2, 3, 2, 1, 1, 1, 3, 1, 1, 1, 3, 1, 1, 2, 2, 1, 0, 0, 1, 2, 1, 3,\n",
       "       0, 2, 0, 0, 0, 2, 2, 1, 0, 1, 1, 2, 1, 1, 0, 1, 1, 2, 0, 1, 3, 0, 1,\n",
       "       2, 2, 0, 2, 1, 1, 2, 1, 0, 0, 1, 1, 4, 0, 3, 0, 2, 3, 0, 0, 1, 0, 1,\n",
       "       1, 0, 1, 2, 2, 1, 0, 1, 0, 1, 1, 2, 1, 2, 1, 1, 1, 2, 1, 0, 0, 1, 3,\n",
       "       1, 2, 2, 2, 0, 2, 0, 3, 1, 0, 0, 3, 1, 0, 1, 1, 3, 0, 1, 1, 0, 2, 0,\n",
       "       3, 1, 1, 1, 1, 2, 1, 0, 1, 0, 2, 0, 1, 1, 1, 1, 3, 0, 2, 1, 1, 1, 1,\n",
       "       1, 0, 0, 0, 1, 1, 0, 3, 0, 0, 1, 0, 0, 1, 0, 0, 2, 2, 1, 1, 1, 0, 2,\n",
       "       1, 1, 2, 3, 1, 2, 2, 1, 1, 3, 0, 0, 2, 3, 3, 3, 2, 2, 1, 1, 0, 2, 2,\n",
       "       1, 1, 2, 1, 1, 2, 2, 4, 0, 0, 2, 1, 0, 1, 2, 1, 2, 0, 2, 2, 1, 1, 0,\n",
       "       1, 1, 1, 1, 1, 1, 2, 3, 1, 0, 0, 1, 1, 0, 1, 2, 0, 5, 0, 0, 2, 1, 0,\n",
       "       1, 2, 1, 0, 0, 2, 0, 1, 0, 1, 0])"
      ]
     },
     "execution_count": 130,
     "metadata": {},
     "output_type": "execute_result"
    }
   ],
   "source": [
    "np.sum((Y1 == 0) & (Y2 == 0), axis = 1)"
   ]
  },
  {
   "cell_type": "code",
   "execution_count": null,
   "metadata": {
    "collapsed": true
   },
   "outputs": [],
   "source": []
  }
 ],
 "metadata": {
  "kernelspec": {
   "display_name": "Python 2",
   "language": "python",
   "name": "python2"
  },
  "language_info": {
   "codemirror_mode": {
    "name": "ipython",
    "version": 2
   },
   "file_extension": ".py",
   "mimetype": "text/x-python",
   "name": "python",
   "nbconvert_exporter": "python",
   "pygments_lexer": "ipython2",
   "version": "2.7.9"
  }
 },
 "nbformat": 4,
 "nbformat_minor": 0
}
