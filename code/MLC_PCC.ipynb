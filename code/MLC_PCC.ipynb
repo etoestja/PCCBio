{
 "cells": [
  {
   "cell_type": "markdown",
   "metadata": {},
   "source": [
    "# Reading the data"
   ]
  },
  {
   "cell_type": "code",
   "execution_count": null,
   "metadata": {
    "collapsed": false
   },
   "outputs": [],
   "source": [
    "# basic imports\n",
    "import csv\n",
    "import numpy as np\n",
    "%matplotlib inline\n",
    "import matplotlib.pyplot as plt\n",
    "\n",
    "dataPath = \"../data/\""
   ]
  },
  {
   "cell_type": "code",
   "execution_count": null,
   "metadata": {
    "collapsed": false
   },
   "outputs": [],
   "source": [
    "# reading CSV file\n",
    "reader = csv.reader(open(dataPath + 'features_2.csv', 'r'), delimiter=',')\n",
    "data_full = np.array(list(reader))\n",
    "reader = csv.reader(open(dataPath + 'all_endpoints_with_missing_values_012615.csv', 'r'), delimiter=',')\n",
    "activity_full = np.array(list(reader))"
   ]
  },
  {
   "cell_type": "code",
   "execution_count": null,
   "metadata": {
    "collapsed": false
   },
   "outputs": [],
   "source": [
    "# feature names\n",
    "feature_names = data_full[0, 1:]\n",
    "\n",
    "# names of the proteins\n",
    "protein_names = data_full[1:, 0]\n",
    "protein_names1 = activity_full[1:, 0]\n",
    "print 'Protein names equality check:', np.array_equal(protein_names1, protein_names)\n",
    "\n",
    "# names of receptors\n",
    "receptor_names = activity_full[0, 1:]\n",
    "\n",
    "# Object-Feature matrix (proteins description)\n",
    "X = data_full[1:, 1:].astype('double')\n",
    "\n",
    "# Activity matrix\n",
    "Y = activity_full[1:, 1:].astype('int16')\n",
    "\n",
    "# Removing constant features\n",
    "ind = np.var(X, axis = 0) != 0\n",
    "X = X[:, ind]\n",
    "feature_names = feature_names[ind]\n",
    "\n",
    "# Number of features\n",
    "N = X.shape[1]"
   ]
  },
  {
   "cell_type": "code",
   "execution_count": null,
   "metadata": {
    "collapsed": false
   },
   "outputs": [],
   "source": [
    "print receptor_names"
   ]
  },
  {
   "cell_type": "markdown",
   "metadata": {
    "collapsed": true
   },
   "source": [
    "# Training classifiers and printing results"
   ]
  },
  {
   "cell_type": "code",
   "execution_count": null,
   "metadata": {
    "collapsed": true
   },
   "outputs": [],
   "source": [
    "from sklearn.linear_model import LogisticRegression as LR\n",
    "from sklearn.metrics import roc_curve, auc\n",
    "from sklearn.cross_validation import StratifiedKFold as SKF\n",
    "import sklearn"
   ]
  },
  {
   "cell_type": "code",
   "execution_count": null,
   "metadata": {
    "collapsed": false
   },
   "outputs": [],
   "source": [
    "def getB(n):\n",
    "    if n == 0:\n",
    "        return(None)\n",
    "    if n == 1:\n",
    "        return([[0], [1]])\n",
    "    else:\n",
    "        res0 = getB(n - 1)\n",
    "        res = list()\n",
    "        for a in res0:\n",
    "            res.append([0] + a)\n",
    "        for a in res0:\n",
    "            res.append([1] + a)\n",
    "        return(res)\n",
    "def plotROCCurve(fpr, tpr, text, filename):\n",
    "    \"\"\"\n",
    "     Plot a ROC curve from fpr, tpr\n",
    "    \"\"\"\n",
    "\n",
    "    plt.rcParams['mathtext.fontset'] = 'stix'\n",
    "    plt.rcParams['font.family'] = 'STIXGeneral'\n",
    "    params = {'text.usetex' : True,\n",
    "       'font.size' : 15,\n",
    "#          'font.family' : 'lmodern',\n",
    "       'text.latex.unicode': True}\n",
    "    plt.rcParams.update(params) \n",
    "    plt.plot(fpr, tpr, label = None)\n",
    "    plt.plot([0, 1], [0, 1], 'k--')\n",
    "    plt.xlim([0.0, 1.0])\n",
    "    plt.ylim([0.0, 1.05])\n",
    "    plt.xlabel('FPR', fontsize=15)\n",
    "    plt.ylabel('TPR', fontsize=15)\n",
    "    plt.tick_params(axis='both', which='major')\n",
    "    plt.title(str(text), fontsize=15)\n",
    "    if filename != None:\n",
    "        plt.savefig(filename + \".eps\", bbox_inches = 'tight')\n",
    "    plt.show()\n",
    "def getShowROC(classifier, Xc, Yc):\n",
    "        Ys = classifier.decision_function(Xc)\n",
    "        fpr, tpr, _ = roc_curve(Yc, Ys)\n",
    "        plotROCCurve(fpr, tpr, \"ROC\", None)\n",
    "def getXY(classToTrain, X, Y, badValue = 999):\n",
    "    \"\"\"\n",
    "    Get objects and answers for class classToTrain\n",
    "    for which answers are available\n",
    "    \"\"\"\n",
    "    \n",
    "    haveAnswersObjectsIndices = np.where(Y[:, classToTrain] != badValue)\n",
    "    classX = X[haveAnswersObjectsIndices, :][0]\n",
    "    classY = Y[haveAnswersObjectsIndices, classToTrain][0]\n",
    "    return classX, classY"
   ]
  },
  {
   "cell_type": "code",
   "execution_count": null,
   "metadata": {
    "collapsed": false
   },
   "outputs": [],
   "source": [
    "class PCC:\n",
    "    Xc = None\n",
    "    Yc = None\n",
    "    C = None\n",
    "    X = None\n",
    "    Y = None\n",
    "    badValue = None\n",
    "    m = 0\n",
    "    def __init__(self):\n",
    "        return None\n",
    "    def initialize(self, m, X, Y, badValue):\n",
    "        self.X = np.copy(X)\n",
    "        self.Y = np.copy(Y)\n",
    "        self.Xc = [None] * m\n",
    "        self.Yc = [None] * m\n",
    "        self.badValue = badValue\n",
    "        self.m = m\n",
    "        self.C = [None] * m\n",
    "    #def fit(self, X, Y, badValue = 999):\n",
    "    #    for i in range(Y.shape[1]):\n",
    "    #        fitOne(self, X, Y, badValue, i)\n",
    "    def fitOne(self, i):\n",
    "        self.C[i] = None\n",
    "        ind = np.where(self.Y[:, i] != self.badValue)\n",
    "        X0 = self.X[ind]\n",
    "        Yc = self.Y[ind][:, i]\n",
    "        Y1 = np.copy(self.Y[ind][:, 0:i])\n",
    "        \n",
    "        #print Yc.shape\n",
    "        #print Y1.shape\n",
    "        \n",
    "        #for k in range(Y1.shape[0]):\n",
    "        #    for j in range(Y1.shape[1]):\n",
    "        #        if Y1[k, j] == self.badValue:\n",
    "        #            #print k, j\n",
    "        #            Y1[k, j] = self.predict(X0[k], j)\n",
    "        \n",
    "        if Y1.shape[1] > 0:\n",
    "            #print X[ind].shape\n",
    "            #print Y1.shape\n",
    "            Xc = np.concatenate((self.X[ind], Y1), axis=1)\n",
    "        else:\n",
    "            Xc = self.X[ind]\n",
    "        \n",
    "        self.Xc[i] = Xc\n",
    "        self.Yc[i] = Yc\n",
    "        \n",
    "        tmpLR = LR(fit_intercept = False, solver='liblinear', n_jobs=3)\n",
    "        tmpLR.fit(Xc, Yc)\n",
    "        self.C[i] = tmpLR\n",
    "    def adjustOne(self, i, fprThresold = 0.2):\n",
    "        Xc = self.Xc[i]\n",
    "        Yc = self.Yc[i]\n",
    "        #getShowROC(self.C[i], Xc, Yc)\n",
    "        objInd = self.getIndexByFPR(i, fprThresold)\n",
    "        self.setClassifierObject(i, objInd)\n",
    "        self.showFPRTPR(i)\n",
    "    def updatePredictions(self, j):\n",
    "        for i in range(self.X.shape[0]):\n",
    "            if self.Y[i][j] == self.badValue:\n",
    "                self.Y[i][j] = self.predict(X[i], j)\n",
    "    def showFPRTPR(self, i):\n",
    "        Xc = self.Xc[i]\n",
    "        Yc = self.Yc[i]\n",
    "        classifier = self.C[i]\n",
    "        N = len(np.where(Yc == 0)[0])\n",
    "        P = len(np.where(Yc == 1)[0])\n",
    "        TP = len(np.where((classifier.predict(Xc) == 1) & (Yc == 1))[0])\n",
    "        FP = len(np.where((classifier.predict(Xc) == 1) & (Yc == 0))[0])\n",
    "       # print(\"Got FPR=%.1f %% TPR=%.1f %%\" % (100. * FP / N, 100. * TP / P))\n",
    "    def getIndexByFPR(self, i, fprLow):\n",
    "        classifier = self.C[i]\n",
    "        Xc = self.Xc[i]\n",
    "        Yc = self.Yc[i]\n",
    "        YScore = classifier.decision_function(Xc)\n",
    "        Ys = np.argsort(YScore)[::-1]\n",
    "        N = len(np.where(Yc==0)[0])\n",
    "        P = len(np.where(Yc==1)[0])\n",
    "        fpr0 = 0\n",
    "        tpr0 = 0\n",
    "        res = None\n",
    "        for i in range(Ys.shape[0]):\n",
    "            ansr = Yc[Ys[i]]\n",
    "            if ansr == 0:\n",
    "                fpr0 += 1\n",
    "            if ansr == 1:\n",
    "                tpr0 += 1\n",
    "                \n",
    "            if 1. * fpr0 / N >= fprLow and res == None:\n",
    "                return(Ys[i])\n",
    "    def setClassifierObject(self, i, index):\n",
    "        classifier = self.C[i]\n",
    "        Xc = self.Xc[i]\n",
    "        classifier.intercept_ = 0\n",
    "        classifier.intercept_ = -classifier.decision_function([Xc[index]])\n",
    "    def probabilityItem(self, x, y):\n",
    "        res = 1\n",
    "        for i in range(len(y)):\n",
    "            x1 = list(x) + y[0:i]\n",
    "            if self.C[i] != None:\n",
    "                res *= self.C[i].predict_proba([x1])[0][y[i]]\n",
    "        return(res)\n",
    "    def probabilityClassRecursive(self, x, ic, il = 0):\n",
    "        if ic == il:\n",
    "            if self.C[ic] == None:\n",
    "                return 0\n",
    "            else:\n",
    "                return self.C[ic].predict_proba([x])[0][1]\n",
    "        else:\n",
    "            fl = self.C[il].predict_proba([x])[0][1]\n",
    "            return(fl * self.probabilityClassRecursive(list(x) + [1], ic, il + 1) + \n",
    "                  (1 - fl) * self.probabilityClassRecursive(list(x) + [0], ic, il + 1))\n",
    "    def probabilityClasses(self, x):\n",
    "        res = np.zeros(self.m)\n",
    "        i = 0\n",
    "        while i < self.m:\n",
    "            if self.C[i] != None:\n",
    "                res[i] = self.probabilityClassRecursive(x, i)\n",
    "            i += 1\n",
    "        return(res)\n",
    "#    def probabilityClassesSlow(self, x):\n",
    "#        m0 = 0\n",
    "#        while m0 < self.m:\n",
    "#            if self.C[m0] == None:\n",
    "#                break\n",
    "#            m0 += 1\n",
    "#        Bm0 = getB(m0)\n",
    "#        res = np.zeros(self.m)\n",
    "#        for v in Bm0:\n",
    "#            for j in range(m0):\n",
    "#                if v[j] == 1:\n",
    "#                    res[j] += probabilityItem(self, x, v)\n",
    "#        return(res)\n",
    "    def probabilityClassesSubset(self, x):\n",
    "        m0 = 0\n",
    "        while m0 < self.m:\n",
    "            if self.C[m0] == None:\n",
    "                break\n",
    "            m0 += 1\n",
    "        Bm0 = getB(m0)\n",
    "        res = None\n",
    "        maxP = 0\n",
    "        for v in Bm0:\n",
    "            p = self.probabilityItem(x, v)\n",
    "            if p > maxP:\n",
    "                res = v\n",
    "                maxP = p\n",
    "        res = res + [0] * (self.m - m0)\n",
    "        return(res)\n",
    "    def predictRankLoss(self, x, i):\n",
    "        return(self.probabilityClassRecursive(x, i) >= 0.5)\n",
    "    def probabilityNew(self, x, v, i):\n",
    "        #v1 = v\n",
    "        #v1[i] = 0\n",
    "        #p0 = self.probabilityItem(x, v1)\n",
    "        #v1[i] = 1\n",
    "        #p1 = self.probabilityItem(x, v1)\n",
    "        #return(p1 / (p0 + p1))\n",
    "        #res = self.probabilityItem(x,v)\n",
    "        #if v[i] == 0:\n",
    "        #    res = 1 - res\n",
    "        #return(res)\n",
    "        #v1 = v[0:i]+[1]\n",
    "        #return(self.probabilityItem(x,v1))\n",
    "        #x1 = list(x)\n",
    "        #for j in range(i + 1):\n",
    "        #    if self.C[j] != None:\n",
    "        #        val = self.C[j].predict_proba([x1])[0][1]\n",
    "        #        ans = [val]\n",
    "        #        x1 = x1 + ans\n",
    "        x1 = list(x) + v[0:i]\n",
    "        val = self.C[i].predict_proba([x1])[0][1]\n",
    "        return(val)\n",
    "    def probabilityClassesNew(self, x):\n",
    "        res = np.zeros(self.m)\n",
    "        i = 0\n",
    "        v = self.probabilityClassesSubset(x)\n",
    "        while i < self.m:\n",
    "            if self.C[i] != None:\n",
    "                res[i] = self.probabilityNew(x, v, i)\n",
    "            i += 1\n",
    "        return(res)"
   ]
  },
  {
   "cell_type": "code",
   "execution_count": null,
   "metadata": {
    "collapsed": false
   },
   "outputs": [],
   "source": [
    "a = PCC()\n",
    "a.initialize(Y.shape[1], X, Y, 999)\n",
    "for i in range(10):\n",
    "    %time a.fitOne(i)\n",
    "    %time a.adjustOne(i, 0.2)\n",
    "    %time a.updatePredictions(i)"
   ]
  },
  {
   "cell_type": "code",
   "execution_count": null,
   "metadata": {
    "collapsed": false,
    "scrolled": false
   },
   "outputs": [],
   "source": [
    "folds = 5\n",
    "IFolds = sklearn.cross_validation.KFold(n = X.shape[0], n_folds=folds, shuffle=True,\n",
    "                               random_state=32)\n",
    "#IFolds = SKF(Y, folds)\n",
    "maxC = 10\n",
    "\n",
    "roc_auc = np.zeros((folds, maxC))\n",
    "fold = 0\n",
    "for ITrain, ITest in IFolds:\n",
    "    # get train & test data\n",
    "    XTrain, YTrain = X[ITrain], Y[ITrain]\n",
    "    XTest,  YTest  = X[ITest],  Y[ITest]\n",
    "\n",
    "    Ys = np.zeros(YTest.shape)\n",
    "    \n",
    "    algo = PCC()\n",
    "    algo.initialize(YTrain.shape[1], XTrain, YTrain, 999)\n",
    "    for i in range(maxC):\n",
    "        print(\"fit %d\" % i)\n",
    "        algo.fitOne(i)\n",
    "        print(\"adjust %d\" % i)\n",
    "        algo.adjustOne(i, 0.2)\n",
    "        print(\"updatePredictions %d\" % i)\n",
    "        algo.updatePredictions(i)\n",
    "    \n",
    "    print(\"calculating ROC...\")\n",
    "    \n",
    "    for j in range(XTest.shape[0]):\n",
    "        Ys[j] = algo.probabilityClasses(XTest[j])\n",
    "    \n",
    "    for i in range(maxC):\n",
    "        ind = np.where(YTest[:, i] != 999)\n",
    "        X1 = XTest[ind]\n",
    "        Y1 = YTest[ind, i][0]\n",
    "        Ys0 = Ys[ind, i][0]\n",
    "\n",
    "        fpr, tpr, _ = roc_curve(Y1, Ys0)\n",
    "        plotROCCurve(fpr, tpr, \"Fold %d Class %d ROC\" % (fold + 1, i + 1), None)\n",
    "        roc_auc[fold][i] = auc(fpr, tpr)\n",
    "    fold += 1\n",
    "       \n",
    "for i in range(maxC):\n",
    "    auc_mean = np.mean(roc_auc[:, i])\n",
    "    auc_std = np.std(roc_auc[:, i])\n",
    "    print(\"Class %d AUC %.2g +- %.1g\" % (i + 1, auc_mean, auc_std))"
   ]
  },
  {
   "cell_type": "markdown",
   "metadata": {
    "collapsed": false
   },
   "source": [
    "# Model data"
   ]
  },
  {
   "cell_type": "code",
   "execution_count": null,
   "metadata": {
    "collapsed": false
   },
   "outputs": [],
   "source": [
    "def Sigma(x):\n",
    "    return(1. / (1 + np.exp(-x)))\n"
   ]
  },
  {
   "cell_type": "code",
   "execution_count": null,
   "metadata": {
    "collapsed": false
   },
   "outputs": [],
   "source": [
    "def showROCCurve(fpr, tpr, auc_mean, auc_std, filename):\n",
    "    \"\"\"\n",
    "    Plot a ROC curve from fpr, tpr\n",
    "    \"\"\"\n",
    "    \n",
    "    plt.rcParams['mathtext.fontset'] = 'stix'\n",
    "    plt.rcParams['font.family'] = 'STIXGeneral'\n",
    "    params = {'text.usetex' : True,\n",
    "          'font.size' : 15,\n",
    "#          'font.family' : 'lmodern',\n",
    "          'text.latex.unicode': True}\n",
    "    plt.rcParams.update(params) \n",
    "    plt.plot(fpr, tpr, label = None)\n",
    "    plt.plot([0, 1], [0, 1], 'k--')\n",
    "    plt.xlim([0.0, 1.0])\n",
    "    plt.ylim([0.0, 1.05])\n",
    "    plt.xlabel('FPR', fontsize=15)\n",
    "    plt.ylabel('TPR', fontsize=15)\n",
    "    plt.tick_params(axis='both', which='major')\n",
    "    auc_mean = '%.2g' % auc_mean\n",
    "    auc_std = '%.1g' % auc_std\n",
    "    plt.title(r\"AUC $= %s\\,\\pm\\,%s$\" % (auc_mean, auc_std), fontsize=15)\n",
    "    plt.savefig(filename + \".eps\", bbox_inches = 'tight')\n",
    "    plt.show()\n",
    "def BRShow(X, Y, folds):\n",
    "    IFolds = sklearn.cross_validation.KFold(n = X.shape[0], n_folds=folds, shuffle=True,\n",
    "                                   random_state=32)\n",
    "    #IFolds = SKF(Y, folds)\n",
    "    maxC = 3\n",
    "\n",
    "    roc_auc = np.zeros((folds, maxC))\n",
    "    subsetLossArr = np.zeros(folds)\n",
    "    fold = 0\n",
    "    for ITrain, ITest in IFolds:\n",
    "        # get train & test data\n",
    "        XTrain, YTrain = X[ITrain], Y[ITrain]\n",
    "        XTest,  YTest  = X[ITest],  Y[ITest]\n",
    "\n",
    "        subsetLossTemp = np.zeros(YTest.shape)\n",
    "        \n",
    "        for i in range(maxC):\n",
    "            classifier = LR()\n",
    "            classifier.fit(XTrain, YTrain[:,i])\n",
    "\n",
    "            # get predicted probabilities for class\n",
    "            YScore = classifier.predict_proba(XTest)[:, 1]\n",
    "            \n",
    "            subsetLossTemp[:, i] = classifier.predict(XTest) != YTest[:, i]\n",
    "\n",
    "            # calculate fpr and tpr\n",
    "            fpr, tpr, _ = roc_curve(YTest[:,i], YScore)\n",
    "            \n",
    "            #plotROCCurve(fpr, tpr, \"Fold %d Class %d ROC\" % (fold + 1, i + 1), None)\n",
    "            roc_auc[fold][i] = auc(fpr, tpr)\n",
    "        fold += 1\n",
    "        \n",
    "        np.any(subsetLossTemp[:, :], axis = 0)\n",
    "\n",
    "    for i in range(maxC):\n",
    "        auc_mean = np.mean(roc_auc[:, i])\n",
    "        auc_std = np.std(roc_auc[:, i])\n",
    "        print(\"Class %d AUC %.2g +- %.1g\" % (i + 1, auc_mean, auc_std))\n",
    "def PCCShow(X, Y, folds, thr = 0.2, do_new = False):\n",
    "    IFolds = sklearn.cross_validation.KFold(n = X.shape[0], n_folds=folds, shuffle=True,\n",
    "                                   random_state=32)\n",
    "    #IFolds = SKF(Y, folds)\n",
    "    maxC = 3\n",
    "\n",
    "    roc_auc = np.zeros((folds, maxC))\n",
    "    fold = 0\n",
    "    subsetLossArr = np.zeros(folds)\n",
    "    for ITrain, ITest in IFolds:\n",
    "        # get train & test data\n",
    "        XTrain, YTrain = X[ITrain], Y[ITrain]\n",
    "        XTest,  YTest  = X[ITest],  Y[ITest]\n",
    "\n",
    "        Ys = np.zeros(YTest.shape)\n",
    "\n",
    "        algo = PCC()\n",
    "        algo.initialize(YTrain.shape[1], XTrain, YTrain, 999)\n",
    "        for i in range(maxC):\n",
    "           # print(\"fit %d\" % i)\n",
    "            algo.fitOne(i)\n",
    "          #  print(\"adjust %d\" % i)\n",
    "            algo.adjustOne(i, thr)\n",
    "\n",
    "    #    print(\"calculating ROC...\")\n",
    "\n",
    "        subsetLoss = 0\n",
    "        for j in range(XTest.shape[0]):\n",
    "            if do_new:\n",
    "                Ys[j] = algo.probabilityClassesNew(XTest[j])\n",
    "            else:\n",
    "                Ys[j] = algo.probabilityClasses(XTest[j])\n",
    "            if np.any(algo.probabilityClassesSubset(XTest[j]) != YTest[j]):\n",
    "                subsetLoss += 1\n",
    "        subsetLossArr[fold] = subsetLoss\n",
    "            \n",
    "\n",
    "        for i in range(maxC):\n",
    "            ind = np.where(YTest[:, i] != 999)\n",
    "            X1 = XTest[ind]\n",
    "            Y1 = YTest[ind, i][0]\n",
    "            Ys0 = Ys[ind, i][0]\n",
    "\n",
    "            fpr, tpr, _ = roc_curve(Y1, Ys0)\n",
    "            plotROCCurve(fpr, tpr, \"Fold %d Class %d ROC\" % (fold + 1, i + 1), None)\n",
    "            roc_auc[fold][i] = auc(fpr, tpr)\n",
    "        fold += 1\n",
    "\n",
    "    for i in range(maxC):\n",
    "        auc_mean = np.mean(roc_auc[:, i])\n",
    "        auc_std = np.std(roc_auc[:, i])\n",
    "        subset_mean = np.mean(subsetLossArr)\n",
    "        subset_std = np.std(subsetLossArr)\n",
    "        print(\"Class %d AUC %.2g +- %.1g SUBSET %.1f %.1f\" % (i + 1, auc_mean, auc_std, subset_mean, subset_std))"
   ]
  },
  {
   "cell_type": "code",
   "execution_count": null,
   "metadata": {
    "collapsed": false
   },
   "outputs": [],
   "source": [
    "m=1000\n",
    "Xm=100*(np.random.rand(m)-0.5)\n",
    "Y1=np.random.rand(m)<=Sigma(Xm)\n",
    "Y2=np.random.rand(m)<=Sigma(-Xm-2*Y1+0.5)\n",
    "Y3=np.random.rand(m)<=Sigma(Xm+12*Y1-2*Y2-11)\n",
    "#Y2=Sigma(-Xm-2*Y1+0.5)>0.5\n",
    "#Y3=Sigma(Xm+12*Y1-2*Y2-11)>0.5\n",
    "Ym=np.array([Y1,Y2,Y3]).T\n",
    "\n",
    "plt.scatter(Xm, Y1, color='red', s=0.01)\n",
    "plt.scatter(Xm, Y2 * 2, color='green', s=0.01)\n",
    "plt.scatter(Xm, Y3 * 3, color='blue', s=0.01)\n",
    "plt.show()\n",
    "Xmr=np.array([Xm]).T"
   ]
  },
  {
   "cell_type": "code",
   "execution_count": null,
   "metadata": {
    "collapsed": false
   },
   "outputs": [],
   "source": [
    "BRShow(Xmr, Ym, 2)\n",
    "print(\"==\")\n",
    "PCCShow(Xmr, Ym, 2, thr = 0.3)\n",
    "print(\"==\")\n",
    "PCCShow(Xmr, Ym, 2, do_new = True, thr = 0.7)"
   ]
  },
  {
   "cell_type": "code",
   "execution_count": null,
   "metadata": {
    "collapsed": false
   },
   "outputs": [],
   "source": [
    "test = PCC()\n",
    "test.initialize(Ym.shape[1], Xmr, Ym, 999)\n",
    "for i in range(3):\n",
    "    test.fitOne(i)\n",
    "    test.adjustOne(i, 0.2)"
   ]
  },
  {
   "cell_type": "code",
   "execution_count": null,
   "metadata": {
    "collapsed": false
   },
   "outputs": [],
   "source": [
    "m=0.3\n",
    "print test.probabilityClassesNew([m])\n",
    "print test.probabilityClasses([m])"
   ]
  },
  {
   "cell_type": "code",
   "execution_count": null,
   "metadata": {
    "collapsed": true
   },
   "outputs": [],
   "source": [
    "v=[0,1,1]"
   ]
  },
  {
   "cell_type": "code",
   "execution_count": null,
   "metadata": {
    "collapsed": false
   },
   "outputs": [],
   "source": [
    "v[0:2]"
   ]
  },
  {
   "cell_type": "code",
   "execution_count": null,
   "metadata": {
    "collapsed": true
   },
   "outputs": [],
   "source": [
    "y = np.array([[0, 1, 0], [1, 0, 1], [1, 1, 1]])"
   ]
  },
  {
   "cell_type": "code",
   "execution_count": null,
   "metadata": {
    "collapsed": false
   },
   "outputs": [],
   "source": [
    "np.all(y, axis = 0)"
   ]
  },
  {
   "cell_type": "code",
   "execution_count": null,
   "metadata": {
    "collapsed": true
   },
   "outputs": [],
   "source": []
  }
 ],
 "metadata": {
  "kernelspec": {
   "display_name": "Python 2",
   "language": "python",
   "name": "python2"
  },
  "language_info": {
   "codemirror_mode": {
    "name": "ipython",
    "version": 2
   },
   "file_extension": ".py",
   "mimetype": "text/x-python",
   "name": "python",
   "nbconvert_exporter": "python",
   "pygments_lexer": "ipython2",
   "version": "2.7.9"
  }
 },
 "nbformat": 4,
 "nbformat_minor": 0
}
