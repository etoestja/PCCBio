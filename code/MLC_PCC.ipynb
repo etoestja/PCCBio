{
 "cells": [
  {
   "cell_type": "markdown",
   "metadata": {},
   "source": [
    "# Reading the data"
   ]
  },
  {
   "cell_type": "code",
   "execution_count": null,
   "metadata": {
    "collapsed": false
   },
   "outputs": [],
   "source": [
    "# basic imports\n",
    "import csv\n",
    "import numpy as np\n",
    "%matplotlib inline\n",
    "import matplotlib.pyplot as plt\n",
    "\n",
    "dataPath = \"../data/\""
   ]
  },
  {
   "cell_type": "code",
   "execution_count": null,
   "metadata": {
    "collapsed": false
   },
   "outputs": [],
   "source": [
    "# reading CSV file\n",
    "reader = csv.reader(open(dataPath + 'features_2.csv', 'r'), delimiter=',')\n",
    "data_full = np.array(list(reader))\n",
    "reader = csv.reader(open(dataPath + 'all_endpoints_with_missing_values_012615.csv', 'r'), delimiter=',')\n",
    "activity_full = np.array(list(reader))"
   ]
  },
  {
   "cell_type": "code",
   "execution_count": null,
   "metadata": {
    "collapsed": false
   },
   "outputs": [],
   "source": [
    "# feature names\n",
    "feature_names = data_full[0, 1:]\n",
    "\n",
    "# names of the proteins\n",
    "protein_names = data_full[1:, 0]\n",
    "protein_names1 = activity_full[1:, 0]\n",
    "print 'Protein names equality check:', np.array_equal(protein_names1, protein_names)\n",
    "\n",
    "# names of receptors\n",
    "receptor_names = activity_full[0, 1:]\n",
    "\n",
    "# Object-Feature matrix (proteins description)\n",
    "X = data_full[1:, 1:].astype('double')\n",
    "\n",
    "# Activity matrix\n",
    "Y = activity_full[1:, 1:].astype('int16')\n",
    "\n",
    "# Removing constant features\n",
    "ind = np.var(X, axis = 0) != 0\n",
    "X = X[:, ind]\n",
    "feature_names = feature_names[ind]\n",
    "\n",
    "# Number of features\n",
    "N = X.shape[1]"
   ]
  },
  {
   "cell_type": "code",
   "execution_count": null,
   "metadata": {
    "collapsed": false
   },
   "outputs": [],
   "source": [
    "print receptor_names"
   ]
  },
  {
   "cell_type": "markdown",
   "metadata": {
    "collapsed": true
   },
   "source": [
    "# Training classifiers and printing results"
   ]
  },
  {
   "cell_type": "code",
   "execution_count": null,
   "metadata": {
    "collapsed": true
   },
   "outputs": [],
   "source": [
    "from sklearn.linear_model import LogisticRegression as LR\n",
    "from sklearn.metrics import roc_curve, auc\n",
    "from sklearn.cross_validation import StratifiedKFold as SKF\n",
    "import sklearn"
   ]
  },
  {
   "cell_type": "code",
   "execution_count": null,
   "metadata": {
    "collapsed": false
   },
   "outputs": [],
   "source": [
    "def getB(n):\n",
    "    if n == 0:\n",
    "        return(None)\n",
    "    if n == 1:\n",
    "        return([[0], [1]])\n",
    "    else:\n",
    "        res0 = getB(n - 1)\n",
    "        res = list()\n",
    "        for a in res0:\n",
    "            res.append([0] + a)\n",
    "        for a in res0:\n",
    "            res.append([1] + a)\n",
    "        return(res)\n",
    "def plotROCCurve(fpr, tpr, text, filename):\n",
    "    \"\"\"\n",
    "     Plot a ROC curve from fpr, tpr\n",
    "    \"\"\"\n",
    "\n",
    "    plt.rcParams['mathtext.fontset'] = 'stix'\n",
    "    plt.rcParams['font.family'] = 'STIXGeneral'\n",
    "    params = {'text.usetex' : True,\n",
    "       'font.size' : 15,\n",
    "#          'font.family' : 'lmodern',\n",
    "       'text.latex.unicode': True}\n",
    "    plt.rcParams.update(params) \n",
    "    plt.plot(fpr, tpr, label = None)\n",
    "    plt.plot([0, 1], [0, 1], 'k--')\n",
    "    plt.xlim([0.0, 1.0])\n",
    "    plt.ylim([0.0, 1.05])\n",
    "    plt.xlabel('FPR', fontsize=15)\n",
    "    plt.ylabel('TPR', fontsize=15)\n",
    "    plt.tick_params(axis='both', which='major')\n",
    "    plt.title(str(text), fontsize=15)\n",
    "    if filename != None:\n",
    "        plt.savefig(filename + \".eps\", bbox_inches = 'tight')\n",
    "    plt.show()\n",
    "def getShowROC(classifier, Xc, Yc):\n",
    "        Ys = classifier.decision_function(Xc)\n",
    "        fpr, tpr, _ = roc_curve(Yc, Ys)\n",
    "        plotROCCurve(fpr, tpr, \"ROC\", None)"
   ]
  },
  {
   "cell_type": "code",
   "execution_count": null,
   "metadata": {
    "collapsed": false
   },
   "outputs": [],
   "source": [
    "class PCC:\n",
    "    Xc = None\n",
    "    Yc = None\n",
    "    C = None\n",
    "    X = None\n",
    "    Y = None\n",
    "    badValue = None\n",
    "    m = 0\n",
    "    def __init__(self):\n",
    "        return None\n",
    "    def initialize(self, m, X, Y, badValue):\n",
    "        self.X = np.copy(X)\n",
    "        self.Y = np.copy(Y)\n",
    "        self.Xc = [None] * m\n",
    "        self.Yc = [None] * m\n",
    "        self.badValue = badValue\n",
    "        self.m = m\n",
    "        self.C = [None] * m\n",
    "    #def fit(self, X, Y, badValue = 999):\n",
    "    #    for i in range(Y.shape[1]):\n",
    "    #        fitOne(self, X, Y, badValue, i)\n",
    "    def fitOne(self, i):\n",
    "        self.C[i] = None\n",
    "        ind = np.where(self.Y[:, i] != self.badValue)\n",
    "        X0 = self.X[ind]\n",
    "        Yc = self.Y[ind][:, i]\n",
    "        Y1 = np.copy(self.Y[ind][:, 0:i])\n",
    "        \n",
    "        #print Yc.shape\n",
    "        #print Y1.shape\n",
    "        \n",
    "        #for k in range(Y1.shape[0]):\n",
    "        #    for j in range(Y1.shape[1]):\n",
    "        #        if Y1[k, j] == self.badValue:\n",
    "        #            #print k, j\n",
    "        #            Y1[k, j] = self.predict(X0[k], j)\n",
    "        \n",
    "        if Y1.shape[1] > 0:\n",
    "            #print X[ind].shape\n",
    "            #print Y1.shape\n",
    "            Xc = np.concatenate((self.X[ind], Y1), axis=1)\n",
    "        else:\n",
    "            Xc = self.X[ind]\n",
    "        \n",
    "        self.Xc[i] = Xc\n",
    "        self.Yc[i] = Yc\n",
    "        \n",
    "        tmpLR = LR(fit_intercept = False, solver='liblinear', n_jobs=3)\n",
    "        tmpLR.fit(Xc, Yc)\n",
    "        self.C[i] = tmpLR\n",
    "    def adjustOne(self, i, fprThresold = 0.2):\n",
    "        Xc = self.Xc[i]\n",
    "        Yc = self.Yc[i]\n",
    "        #getShowROC(self.C[i], Xc, Yc)\n",
    "        objInd = self.getIndexByFPR(i, fprThresold)\n",
    "        self.setClassifierObject(i, objInd)\n",
    "        self.showFPRTPR(i)\n",
    "    def updatePredictions(self, j):\n",
    "        for i in range(self.X.shape[0]):\n",
    "            if self.Y[i][j] == self.badValue:\n",
    "                self.Y[i][j] = self.predict(X[i], j)\n",
    "    def showFPRTPR(self, i):\n",
    "        Xc = self.Xc[i]\n",
    "        Yc = self.Yc[i]\n",
    "        classifier = self.C[i]\n",
    "        N = len(np.where(Yc == 0)[0])\n",
    "        P = len(np.where(Yc == 1)[0])\n",
    "        TP = len(np.where((classifier.predict(Xc) == 1) & (Yc == 1))[0])\n",
    "        FP = len(np.where((classifier.predict(Xc) == 1) & (Yc == 0))[0])\n",
    "        print(\"Got FPR=%.1f %% TPR=%.1f %%\" % (100. * FP / N, 100. * TP / P))\n",
    "    def getIndexByFPR(self, i, fprLow):\n",
    "        classifier = self.C[i]\n",
    "        Xc = self.Xc[i]\n",
    "        Yc = self.Yc[i]\n",
    "        YScore = classifier.decision_function(Xc)\n",
    "        Ys = np.argsort(YScore)[::-1]\n",
    "        N = len(np.where(Yc==0)[0])\n",
    "        P = len(np.where(Yc==1)[0])\n",
    "        fpr0 = 0\n",
    "        tpr0 = 0\n",
    "        res = None\n",
    "        for i in range(Ys.shape[0]):\n",
    "            ansr = Yc[Ys[i]]\n",
    "            if ansr == 0:\n",
    "                fpr0 += 1\n",
    "            if ansr == 1:\n",
    "                tpr0 += 1\n",
    "                \n",
    "            if 1. * fpr0 / N >= fprLow and res == None:\n",
    "                return(Ys[i])\n",
    "    def setClassifierObject(self, i, index):\n",
    "        classifier = self.C[i]\n",
    "        Xc = self.Xc[i]\n",
    "        classifier.intercept_ = 0\n",
    "        classifier.intercept_ = -classifier.decision_function([Xc[index]])\n",
    "    def probabilityItem(self, x, y):\n",
    "        res = 1\n",
    "        for i in range(len(y)):\n",
    "            x1 = list(x) + y[0:i]\n",
    "            if self.C[i] != None:\n",
    "                res *= self.C[i].predict_proba([x1])[0][y[i]]\n",
    "        return(res)\n",
    "    def probabilityClassRecursive(self, x, ic, il = 0):\n",
    "        if ic == il:\n",
    "            if self.C[ic] == None:\n",
    "                return 0\n",
    "            else:\n",
    "                return self.C[ic].predict_proba([x])[0][1]\n",
    "        else:\n",
    "            fl = self.C[il].predict_proba([x])[0][1]\n",
    "            return(fl * self.probabilityClassRecursive(list(x) + [1], ic, il + 1) + \n",
    "                  (1 - fl) * self.probabilityClassRecursive(list(x) + [0], ic, il + 1))\n",
    "    def probabilityClasses(self, x):\n",
    "        res = np.zeros(self.m)\n",
    "        i = 0\n",
    "        while i < self.m:\n",
    "            if self.C[i] != None:\n",
    "                res[i] = self.probabilityClassRecursive(x, i)\n",
    "            i += 1\n",
    "        return(res)\n",
    "#    def probabilityClassesSlow(self, x):\n",
    "#        m0 = 0\n",
    "#        while m0 < self.m:\n",
    "#            if self.C[m0] == None:\n",
    "#                break\n",
    "#            m0 += 1\n",
    "#        Bm0 = getB(m0)\n",
    "#        res = np.zeros(self.m)\n",
    "#        for v in Bm0:\n",
    "#            for j in range(m0):\n",
    "#                if v[j] == 1:\n",
    "#                    res[j] += probabilityItem(self, x, v)\n",
    "#        return(res)\n",
    "    def probabilityClassesSubset(self, x):\n",
    "        m0 = 0\n",
    "        while m0 < self.m:\n",
    "            if self.C[m0] == None:\n",
    "                break\n",
    "            m0 += 1\n",
    "        Bm0 = getB(m0)\n",
    "        res = None\n",
    "        maxP = 0\n",
    "        for v in Bm0:\n",
    "            p = probabilityItem(self, x, v)\n",
    "            if p > maxP:\n",
    "                res = v\n",
    "                maxP = p\n",
    "        res = res + [0] * (self.m - m0)\n",
    "        return(res)\n",
    "    def predictRankLoss(self, x, i):\n",
    "        return(self.probabilityClassRecursive(x, i) >= 0.5)"
   ]
  },
  {
   "cell_type": "code",
   "execution_count": null,
   "metadata": {
    "collapsed": false
   },
   "outputs": [],
   "source": [
    "a = PCC()\n",
    "a.initialize(Y.shape[1], X, Y, 999)\n",
    "for i in range(10):\n",
    "    %time a.fitOne(i)\n",
    "    %time a.adjustOne(i, 0.2)\n",
    "    %time a.updatePredictions(i)"
   ]
  },
  {
   "cell_type": "code",
   "execution_count": null,
   "metadata": {
    "collapsed": false
   },
   "outputs": [],
   "source": [
    "def getXY(classToTrain, X, Y, badValue = 999):\n",
    "    \"\"\"\n",
    "    Get objects and answers for class classToTrain\n",
    "    for which answers are available\n",
    "    \"\"\"\n",
    "    \n",
    "    haveAnswersObjectsIndices = np.where(Y[:, classToTrain] != badValue)\n",
    "    classX = X[haveAnswersObjectsIndices, :][0]\n",
    "    classY = Y[haveAnswersObjectsIndices, classToTrain][0]\n",
    "    return classX, classY"
   ]
  },
  {
   "cell_type": "code",
   "execution_count": null,
   "metadata": {
    "collapsed": false,
    "scrolled": false
   },
   "outputs": [],
   "source": [
    "folds = 5\n",
    "IFolds = sklearn.cross_validation.KFold(n = X.shape[0], n_folds=folds, shuffle=True,\n",
    "                               random_state=32)\n",
    "#IFolds = SKF(Y, folds)\n",
    "maxC = 10\n",
    "\n",
    "roc_auc = np.zeros((folds, maxC))\n",
    "fold = 0\n",
    "for ITrain, ITest in IFolds:\n",
    "    # get train & test data\n",
    "    XTrain, YTrain = X[ITrain], Y[ITrain]\n",
    "    XTest,  YTest  = X[ITest],  Y[ITest]\n",
    "\n",
    "    Ys = np.zeros(YTest.shape)\n",
    "    \n",
    "    algo = PCC()\n",
    "    algo.initialize(YTrain.shape[1], XTrain, YTrain, 999)\n",
    "    for i in range(maxC):\n",
    "        print(\"fit %d\" % i)\n",
    "        algo.fitOne(i)\n",
    "        print(\"adjust %d\" % i)\n",
    "        algo.adjustOne(i, 0.2)\n",
    "        print(\"updatePredictions %d\" % i)\n",
    "        algo.updatePredictions(i)\n",
    "    \n",
    "    print(\"calculating ROC...\")\n",
    "    \n",
    "    for j in range(XTest.shape[0]):\n",
    "        Ys[j] = algo.probabilityClasses(XTest[j])\n",
    "    \n",
    "    for i in range(maxC):\n",
    "        ind = np.where(YTest[:, i] != 999)\n",
    "        X1 = XTest[ind]\n",
    "        Y1 = YTest[ind, i][0]\n",
    "        Ys0 = Ys[ind, i][0]\n",
    "\n",
    "        fpr, tpr, _ = roc_curve(Y1, Ys0)\n",
    "        plotROCCurve(fpr, tpr, \"Fold %d Class %d ROC\" % (fold + 1, i + 1), None)\n",
    "        roc_auc[fold][i] = auc(fpr, tpr)\n",
    "    fold += 1\n",
    "       \n",
    "for i in range(maxC):\n",
    "    auc_mean = np.mean(roc_auc[:, i])\n",
    "    auc_std = np.std(roc_auc[:, i])\n",
    "    print(\"Class %d AUC %.2g +- %.1g\" % (i + 1, auc_mean, auc_std))"
   ]
  },
  {
   "cell_type": "code",
   "execution_count": null,
   "metadata": {
    "collapsed": false
   },
   "outputs": [],
   "source": [
    "algo.probabilityClasses(X[0])"
   ]
  },
  {
   "cell_type": "code",
   "execution_count": null,
   "metadata": {
    "collapsed": true
   },
   "outputs": [],
   "source": [
    "    def probabilityClassesSubset(self, x):\n",
    "        m0 = 0\n",
    "        while m0 < self.m:\n",
    "            if self.C[m0] == None:\n",
    "                break\n",
    "            m0 += 1\n",
    "        Bm0 = getB(m0)\n",
    "        res = None\n",
    "        maxP = 0\n",
    "        for v in Bm0:\n",
    "            p = probabilityItem(self, x, v)\n",
    "            if p > maxP:\n",
    "                res = v\n",
    "                maxP = p\n",
    "        res = res + [0] * (self.m - m0)\n",
    "        return(res)"
   ]
  },
  {
   "cell_type": "code",
   "execution_count": null,
   "metadata": {
    "collapsed": false
   },
   "outputs": [],
   "source": [
    "probabilityClassesSubset(algo, X[0])"
   ]
  },
  {
   "cell_type": "code",
   "execution_count": null,
   "metadata": {
    "collapsed": true
   },
   "outputs": [],
   "source": []
  }
 ],
 "metadata": {
  "kernelspec": {
   "display_name": "Python 2",
   "language": "python",
   "name": "python2"
  },
  "language_info": {
   "codemirror_mode": {
    "name": "ipython",
    "version": 2
   },
   "file_extension": ".py",
   "mimetype": "text/x-python",
   "name": "python",
   "nbconvert_exporter": "python",
   "pygments_lexer": "ipython2",
   "version": "2.7.9"
  }
 },
 "nbformat": 4,
 "nbformat_minor": 0
}
