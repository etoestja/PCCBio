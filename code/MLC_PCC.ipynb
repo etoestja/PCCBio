{
 "cells": [
  {
   "cell_type": "markdown",
   "metadata": {},
   "source": [
    "# Reading the data"
   ]
  },
  {
   "cell_type": "code",
   "execution_count": 118,
   "metadata": {
    "collapsed": false
   },
   "outputs": [],
   "source": [
    "# basic imports\n",
    "import csv\n",
    "import numpy as np\n",
    "%matplotlib inline\n",
    "import matplotlib.pyplot as plt\n",
    "\n",
    "dataPath = \"../data/\""
   ]
  },
  {
   "cell_type": "code",
   "execution_count": null,
   "metadata": {
    "collapsed": false
   },
   "outputs": [],
   "source": [
    "# reading CSV file\n",
    "reader = csv.reader(open(dataPath + 'features_2.csv', 'r'), delimiter=',')\n",
    "data_full = np.array(list(reader))\n",
    "reader = csv.reader(open(dataPath + 'all_endpoints_with_missing_values_012615.csv', 'r'), delimiter=',')\n",
    "activity_full = np.array(list(reader))"
   ]
  },
  {
   "cell_type": "code",
   "execution_count": null,
   "metadata": {
    "collapsed": false
   },
   "outputs": [],
   "source": [
    "# feature names\n",
    "feature_names = data_full[0, 1:]\n",
    "\n",
    "# names of the proteins\n",
    "protein_names = data_full[1:, 0]\n",
    "protein_names1 = activity_full[1:, 0]\n",
    "print 'Protein names equality check:', np.array_equal(protein_names1, protein_names)\n",
    "\n",
    "# names of receptors\n",
    "receptor_names = activity_full[0, 1:]\n",
    "\n",
    "# Object-Feature matrix (proteins description)\n",
    "X = data_full[1:, 1:].astype('double')\n",
    "\n",
    "# Activity matrix\n",
    "Y = activity_full[1:, 1:].astype('int16')\n",
    "\n",
    "# Removing constant features\n",
    "ind = np.var(X, axis = 0) != 0\n",
    "X = X[:, ind]\n",
    "feature_names = feature_names[ind]\n",
    "\n",
    "# Number of features\n",
    "N = X.shape[1]"
   ]
  },
  {
   "cell_type": "code",
   "execution_count": null,
   "metadata": {
    "collapsed": false
   },
   "outputs": [],
   "source": [
    "print receptor_names"
   ]
  },
  {
   "cell_type": "markdown",
   "metadata": {
    "collapsed": true
   },
   "source": [
    "# Training classifiers and printing results"
   ]
  },
  {
   "cell_type": "code",
   "execution_count": 53,
   "metadata": {
    "collapsed": true
   },
   "outputs": [],
   "source": [
    "from sklearn.linear_model import LogisticRegression as LR\n",
    "from sklearn.metrics import roc_curve, auc\n",
    "from sklearn.cross_validation import StratifiedKFold as SKF\n",
    "import sklearn\n",
    "from scipy.special import expit"
   ]
  },
  {
   "cell_type": "code",
   "execution_count": 54,
   "metadata": {
    "collapsed": false
   },
   "outputs": [
    {
     "data": {
      "text/plain": [
       "<module 'MLCCommon' from 'MLCCommon.py'>"
      ]
     },
     "execution_count": 54,
     "metadata": {},
     "output_type": "execute_result"
    }
   ],
   "source": [
    "import PCC\n",
    "import MLCCommon\n",
    "reload(MLCCommon)"
   ]
  },
  {
   "cell_type": "code",
   "execution_count": 55,
   "metadata": {
    "collapsed": false
   },
   "outputs": [
    {
     "name": "stdout",
     "output_type": "stream",
     "text": [
      "[ 0.73105858  0.88079708  0.95257413]\n",
      "[ 0.73105858  0.88079708  0.95257413]\n"
     ]
    }
   ],
   "source": [
    "#Sigma(0)\n",
    "print MLCCommon.Sigma(np.array([1,2,3]))\n",
    "\n",
    "\n",
    "print expit(np.array([1,2,3]))"
   ]
  },
  {
   "cell_type": "markdown",
   "metadata": {
    "collapsed": false
   },
   "source": [
    "# Model data"
   ]
  },
  {
   "cell_type": "code",
   "execution_count": 116,
   "metadata": {
    "collapsed": false
   },
   "outputs": [],
   "source": [
    "randomState = 1234\n",
    "    \n",
    "def BRShow(X, Y, folds):\n",
    "    IFolds = sklearn.cross_validation.KFold(n = X.shape[0], n_folds=folds, shuffle=True,\n",
    "                                   random_state=randomState)\n",
    "    #IFolds = SKF(Y, folds)\n",
    "    maxC = 3\n",
    "\n",
    "    roc_auc = np.zeros((folds, maxC))\n",
    "    subsetLossArr = np.zeros(folds)\n",
    "    fold = 0\n",
    "    for ITrain, ITest in IFolds:\n",
    "        # get train & test data\n",
    "        XTrain, YTrain = X[ITrain], Y[ITrain]\n",
    "        XTest,  YTest  = X[ITest],  Y[ITest]\n",
    "\n",
    "        subsetLossTemp = np.zeros(YTest.shape)\n",
    "        \n",
    "        for i in range(maxC):\n",
    "            classifier = LR(class_weight = 'balanced')\n",
    "            classifier.fit(XTrain, YTrain[:,i])\n",
    "\n",
    "            # get predicted probabilities for class\n",
    "            YScore = classifier.predict_proba(XTest)[:, 1]\n",
    "            \n",
    "            subsetLossTemp[:, i] = (classifier.predict(XTest) == YTest[:, i])\n",
    "\n",
    "            # calculate fpr and tpr\n",
    "            fpr, tpr, _ = roc_curve(YTest[:,i], YScore)\n",
    "            \n",
    "            plotROCCurve(fpr, tpr, \"Fold %d Class %d ROC\" % (fold + 1, i + 1), None)\n",
    "            roc_auc[fold][i] = auc(fpr, tpr)\n",
    "        subsetLossArr[fold] = 1. * len(np.where(np.all(subsetLossTemp, axis = 1)==0)[0]) / XTest.shape[0]\n",
    "        fold += 1\n",
    "\n",
    "    for i in range(maxC):\n",
    "        auc_mean = np.mean(roc_auc[:, i])\n",
    "        auc_std = np.std(roc_auc[:, i])\n",
    "        print(\"Class %d AUC %.2g +- %.1g\" % (i + 1, auc_mean, auc_std))\n",
    "    subset_mean = np.mean(subsetLossArr)\n",
    "    subset_std = np.std(subsetLossArr)\n",
    "    print(\"SUBSET %.5f %.1f\" % (subset_mean, subset_std))\n",
    "def PCCShow(X, Y, folds, thr = 0.2, do_new = False):\n",
    "    IFolds = sklearn.cross_validation.KFold(n = X.shape[0], n_folds=folds, shuffle=True,\n",
    "                                   random_state=randomState)\n",
    "    #IFolds = SKF(Y, folds)\n",
    "    maxC = 3\n",
    "\n",
    "    roc_auc = np.zeros((folds, maxC))\n",
    "    fold = 0\n",
    "    subsetLossArr = np.zeros(folds)\n",
    "    for ITrain, ITest in IFolds:\n",
    "        # get train & test data\n",
    "        XTrain, YTrain = X[ITrain], Y[ITrain]\n",
    "        XTest,  YTest  = X[ITest],  Y[ITest]\n",
    "\n",
    "        Ys = np.zeros(YTest.shape)\n",
    "\n",
    "        algo = PCC()\n",
    "        algo.initialize(YTrain.shape[1], XTrain, YTrain, 999)\n",
    "        for i in range(maxC):\n",
    "           # print(\"fit %d\" % i)\n",
    "            algo.fitOne(i)\n",
    "          #  print(\"adjust %d\" % i)\n",
    "           # algo.adjustOne(i, thr)\n",
    "\n",
    "    #    print(\"calculating ROC...\")\n",
    "\n",
    "        subsetLoss = 0\n",
    "        P = np.zeros(YTest.shape[1])\n",
    "        N = np.zeros(YTest.shape[1])\n",
    "        FP = np.zeros(YTest.shape[1])\n",
    "        TP = np.zeros(YTest.shape[1])\n",
    "        \n",
    "        for j in range(XTest.shape[0]):\n",
    "            if do_new:\n",
    "                Ys[j] = algo.probabilityClassesNew(XTest[j])\n",
    "            else:\n",
    "                Ys[j] = algo.probabilityClasses(XTest[j])\n",
    "            #ans1 = algo.probabilityClassesSubset(XTest[j])\n",
    "            ans1 = algo.predictMinimizeLoss(XTest[j])\n",
    "            ans2 = YTest[j]\n",
    "            if np.any(ans1 != ans2):\n",
    "                subsetLoss += 1\n",
    "               # print(\"Got error j=%d ans1 = %s ans2 = %s\" % (j, str(ans1), str(ans2)))\n",
    "            for i in range(YTest.shape[1]):\n",
    "                if ans2[i] == 1:\n",
    "                    P[i] += 1\n",
    "                else:\n",
    "                    N[i] += 1\n",
    "                if ans1[i] == 1 and ans2[i] == 1:\n",
    "                    TP[i] += 1\n",
    "                if ans1[i] == 1 and ans2[i] == 0:\n",
    "                    FP[i] += 1\n",
    "        for i in range(YTest.shape[1]):\n",
    "            print(\"FOLD %d CLASS %d P=%d N=%d FPR=%lf TPR=%lf\" % (fold, i, P[i], N[i], 1. * FP[i] / N[i], 1. * TP[i] / P[i]))\n",
    "                    \n",
    "        subsetLossArr[fold] = 1. * subsetLoss / XTest.shape[0]\n",
    "            \n",
    "\n",
    "        for i in range(maxC):\n",
    "            ind = np.where(YTest[:, i] != 999)\n",
    "            X1 = XTest[ind]\n",
    "            Y1 = YTest[ind, i][0]\n",
    "            Ys0 = Ys[ind, i][0]\n",
    "\n",
    "            fpr, tpr, _ = roc_curve(Y1, Ys0)\n",
    "            #plotROCCurve(fpr, tpr, \"Fold %d Class %d ROC\" % (fold + 1, i + 1), None)\n",
    "            roc_auc[fold][i] = auc(fpr, tpr)\n",
    "            \n",
    "        Xshow = np.arange(-0.6, 0.6, 0.01)\n",
    "        plt.figure(figsize=(10, 10))\n",
    "        plt.xlim([-1, 1])\n",
    "        plt.ylim([-0.1, 1.05])\n",
    "        for v in getB(l):\n",
    "            c = v\n",
    "            if c == [1, 1, 1]:\n",
    "                c = [0.5, 0.5, 0.5]\n",
    "            YShow = np.zeros(Xshow.shape[0])\n",
    "            for i in range(Xshow.shape[0]):\n",
    "                item = Xshow[i]\n",
    "                item = [item]\n",
    "                YShow[i] = algo.probabilityItem(item, v)\n",
    "            plt.plot(Xshow, YShow, color=c, label=str(v))\n",
    "        plt.legend(loc=2,prop={'size':8})\n",
    "        plt.show()\n",
    "\n",
    "        Xmr=np.array([Xm]).T\n",
    "            \n",
    "        fold += 1\n",
    "\n",
    "    for i in range(maxC):\n",
    "        auc_mean = np.mean(roc_auc[:, i])\n",
    "        auc_std = np.std(roc_auc[:, i])\n",
    "        print(\"Class %d AUC %.2g +- %.1g\" % (i + 1, auc_mean, auc_std))\n",
    "    subset_mean = np.mean(subsetLossArr)\n",
    "    subset_std = np.std(subsetLossArr)\n",
    "    print(\"SUBSET %.5f %.1f\" % (subset_mean, subset_std))"
   ]
  },
  {
   "cell_type": "code",
   "execution_count": 114,
   "metadata": {
    "collapsed": false
   },
   "outputs": [
    {
     "data": {
      "image/png": "[encoded data removed]",
      "text/plain": [
       "<matplotlib.figure.Figure at 0x7f579e8c7a10>"
      ]
     },
     "metadata": {},
     "output_type": "display_data"
    }
   ],
   "source": [
    "import ModelData\n",
    "reload(ModelData)            \n",
    "\n",
    "ModelData.plotDistribution()\n",
    "\n",
    "Xm, Ym = ModelData.get()\n",
    "Xm=np.array([Xm]).T"
   ]
  },
  {
   "cell_type": "code",
   "execution_count": 119,
   "metadata": {
    "collapsed": false
   },
   "outputs": [
    {
     "ename": "NameError",
     "evalue": "global name 'plt' is not defined",
     "output_type": "error",
     "traceback": [
      "\u001b[1;31m---------------------------------------------------------------------------\u001b[0m",
      "\u001b[1;31mNameError\u001b[0m                                 Traceback (most recent call last)",
      "\u001b[1;32m<ipython-input-119-20c38d5bf26c>\u001b[0m in \u001b[0;36m<module>\u001b[1;34m()\u001b[0m\n\u001b[1;32m----> 1\u001b[1;33m \u001b[0mBRShow\u001b[0m\u001b[1;33m(\u001b[0m\u001b[0mXm\u001b[0m\u001b[1;33m,\u001b[0m \u001b[0mYm\u001b[0m\u001b[1;33m,\u001b[0m \u001b[1;36m2\u001b[0m\u001b[1;33m)\u001b[0m\u001b[1;33m\u001b[0m\u001b[0m\n\u001b[0m\u001b[0;32m      2\u001b[0m \u001b[1;32mprint\u001b[0m\u001b[1;33m(\u001b[0m\u001b[1;34m\"==\"\u001b[0m\u001b[1;33m)\u001b[0m\u001b[1;33m\u001b[0m\u001b[0m\n\u001b[0;32m      3\u001b[0m \u001b[0mPCCShow\u001b[0m\u001b[1;33m(\u001b[0m\u001b[0mXm\u001b[0m\u001b[1;33m,\u001b[0m \u001b[0mYm\u001b[0m\u001b[1;33m,\u001b[0m \u001b[1;36m2\u001b[0m\u001b[1;33m,\u001b[0m \u001b[0mthr\u001b[0m \u001b[1;33m=\u001b[0m \u001b[1;36m0.3\u001b[0m\u001b[1;33m)\u001b[0m\u001b[1;33m\u001b[0m\u001b[0m\n\u001b[0;32m      4\u001b[0m \u001b[1;31m#print(\"==\")\u001b[0m\u001b[1;33m\u001b[0m\u001b[1;33m\u001b[0m\u001b[0m\n\u001b[0;32m      5\u001b[0m \u001b[1;31m#PCCShow(Xmr, Ym, 2, do_new = True, thr = 0.7)\u001b[0m\u001b[1;33m\u001b[0m\u001b[1;33m\u001b[0m\u001b[0m\n",
      "\u001b[1;32m<ipython-input-116-e23da598506a>\u001b[0m in \u001b[0;36mBRShow\u001b[1;34m(X, Y, folds)\u001b[0m\n\u001b[0;32m     29\u001b[0m             \u001b[0mfpr\u001b[0m\u001b[1;33m,\u001b[0m \u001b[0mtpr\u001b[0m\u001b[1;33m,\u001b[0m \u001b[0m_\u001b[0m \u001b[1;33m=\u001b[0m \u001b[0mroc_curve\u001b[0m\u001b[1;33m(\u001b[0m\u001b[0mYTest\u001b[0m\u001b[1;33m[\u001b[0m\u001b[1;33m:\u001b[0m\u001b[1;33m,\u001b[0m\u001b[0mi\u001b[0m\u001b[1;33m]\u001b[0m\u001b[1;33m,\u001b[0m \u001b[0mYScore\u001b[0m\u001b[1;33m)\u001b[0m\u001b[1;33m\u001b[0m\u001b[0m\n\u001b[0;32m     30\u001b[0m \u001b[1;33m\u001b[0m\u001b[0m\n\u001b[1;32m---> 31\u001b[1;33m             \u001b[0mplotROCCurve\u001b[0m\u001b[1;33m(\u001b[0m\u001b[0mfpr\u001b[0m\u001b[1;33m,\u001b[0m \u001b[0mtpr\u001b[0m\u001b[1;33m,\u001b[0m \u001b[1;34m\"Fold %d Class %d ROC\"\u001b[0m \u001b[1;33m%\u001b[0m \u001b[1;33m(\u001b[0m\u001b[0mfold\u001b[0m \u001b[1;33m+\u001b[0m \u001b[1;36m1\u001b[0m\u001b[1;33m,\u001b[0m \u001b[0mi\u001b[0m \u001b[1;33m+\u001b[0m \u001b[1;36m1\u001b[0m\u001b[1;33m)\u001b[0m\u001b[1;33m,\u001b[0m \u001b[0mNone\u001b[0m\u001b[1;33m)\u001b[0m\u001b[1;33m\u001b[0m\u001b[0m\n\u001b[0m\u001b[0;32m     32\u001b[0m             \u001b[0mroc_auc\u001b[0m\u001b[1;33m[\u001b[0m\u001b[0mfold\u001b[0m\u001b[1;33m]\u001b[0m\u001b[1;33m[\u001b[0m\u001b[0mi\u001b[0m\u001b[1;33m]\u001b[0m \u001b[1;33m=\u001b[0m \u001b[0mauc\u001b[0m\u001b[1;33m(\u001b[0m\u001b[0mfpr\u001b[0m\u001b[1;33m,\u001b[0m \u001b[0mtpr\u001b[0m\u001b[1;33m)\u001b[0m\u001b[1;33m\u001b[0m\u001b[0m\n\u001b[0;32m     33\u001b[0m         \u001b[0msubsetLossArr\u001b[0m\u001b[1;33m[\u001b[0m\u001b[0mfold\u001b[0m\u001b[1;33m]\u001b[0m \u001b[1;33m=\u001b[0m \u001b[1;36m1.\u001b[0m \u001b[1;33m*\u001b[0m \u001b[0mlen\u001b[0m\u001b[1;33m(\u001b[0m\u001b[0mnp\u001b[0m\u001b[1;33m.\u001b[0m\u001b[0mwhere\u001b[0m\u001b[1;33m(\u001b[0m\u001b[0mnp\u001b[0m\u001b[1;33m.\u001b[0m\u001b[0mall\u001b[0m\u001b[1;33m(\u001b[0m\u001b[0msubsetLossTemp\u001b[0m\u001b[1;33m,\u001b[0m \u001b[0maxis\u001b[0m \u001b[1;33m=\u001b[0m \u001b[1;36m1\u001b[0m\u001b[1;33m)\u001b[0m\u001b[1;33m==\u001b[0m\u001b[1;36m0\u001b[0m\u001b[1;33m)\u001b[0m\u001b[1;33m[\u001b[0m\u001b[1;36m0\u001b[0m\u001b[1;33m]\u001b[0m\u001b[1;33m)\u001b[0m \u001b[1;33m/\u001b[0m \u001b[0mXTest\u001b[0m\u001b[1;33m.\u001b[0m\u001b[0mshape\u001b[0m\u001b[1;33m[\u001b[0m\u001b[1;36m0\u001b[0m\u001b[1;33m]\u001b[0m\u001b[1;33m\u001b[0m\u001b[0m\n",
      "\u001b[1;32m/home/etoestja/Documents/j/home/Documents/p/svn/mlalgorithms-code/Group374/Volodin2016ProbabilisticReceptorPrediction/code/MLCCommon.py\u001b[0m in \u001b[0;36mplotROCCurve\u001b[1;34m(fpr, tpr, text, filename)\u001b[0m\n\u001b[0;32m     19\u001b[0m      \u001b[0mPlot\u001b[0m \u001b[0ma\u001b[0m \u001b[0mROC\u001b[0m \u001b[0mcurve\u001b[0m \u001b[1;32mfrom\u001b[0m \u001b[0mfpr\u001b[0m\u001b[1;33m,\u001b[0m \u001b[0mtpr\u001b[0m\u001b[1;33m\u001b[0m\u001b[0m\n\u001b[0;32m     20\u001b[0m     \"\"\"\n\u001b[1;32m---> 21\u001b[1;33m \u001b[1;33m\u001b[0m\u001b[0m\n\u001b[0m\u001b[0;32m     22\u001b[0m     \u001b[0mplt\u001b[0m\u001b[1;33m.\u001b[0m\u001b[0mrcParams\u001b[0m\u001b[1;33m[\u001b[0m\u001b[1;34m'mathtext.fontset'\u001b[0m\u001b[1;33m]\u001b[0m \u001b[1;33m=\u001b[0m \u001b[1;34m'stix'\u001b[0m\u001b[1;33m\u001b[0m\u001b[0m\n\u001b[0;32m     23\u001b[0m     \u001b[0mplt\u001b[0m\u001b[1;33m.\u001b[0m\u001b[0mrcParams\u001b[0m\u001b[1;33m[\u001b[0m\u001b[1;34m'font.family'\u001b[0m\u001b[1;33m]\u001b[0m \u001b[1;33m=\u001b[0m \u001b[1;34m'STIXGeneral'\u001b[0m\u001b[1;33m\u001b[0m\u001b[0m\n",
      "\u001b[1;31mNameError\u001b[0m: global name 'plt' is not defined"
     ]
    }
   ],
   "source": [
    "BRShow(Xm, Ym, 2)\n",
    "print(\"==\")\n",
    "PCCShow(Xm, Ym, 2, thr = 0.3)\n",
    "#print(\"==\")\n",
    "#PCCShow(Xmr, Ym, 2, do_new = True, thr = 0.7)"
   ]
  },
  {
   "cell_type": "code",
   "execution_count": null,
   "metadata": {
    "collapsed": true
   },
   "outputs": [],
   "source": []
  }
 ],
 "metadata": {
  "kernelspec": {
   "display_name": "Python 2",
   "language": "python",
   "name": "python2"
  },
  "language_info": {
   "codemirror_mode": {
    "name": "ipython",
    "version": 2
   },
   "file_extension": ".py",
   "mimetype": "text/x-python",
   "name": "python",
   "nbconvert_exporter": "python",
   "pygments_lexer": "ipython2",
   "version": "2.7.9"
  }
 },
 "nbformat": 4,
 "nbformat_minor": 0
}
