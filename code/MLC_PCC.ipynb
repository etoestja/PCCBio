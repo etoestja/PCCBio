{
 "cells": [
  {
   "cell_type": "markdown",
   "metadata": {},
   "source": [
    "# Basic imports"
   ]
  },
  {
   "cell_type": "code",
   "execution_count": 1,
   "metadata": {
    "collapsed": true
   },
   "outputs": [],
   "source": [
    "from functools import partial\n",
    "import pandas, csv\n",
    "import numpy as np\n",
    "%matplotlib inline\n",
    "import matplotlib.pyplot as plt\n",
    "\n",
    "from sklearn.linear_model import LogisticRegression as LR\n",
    "from sklearn.metrics import roc_curve, auc, hamming_loss, zero_one_loss, \\\n",
    "    jaccard_similarity_score, precision_score, recall_score, roc_auc_score, make_scorer\n",
    "from sklearn.cross_validation import StratifiedKFold as SKF, cross_val_score, KFold\n",
    "from scipy.special import expit\n",
    "from sklearn.multiclass import OneVsRestClassifier"
   ]
  },
  {
   "cell_type": "markdown",
   "metadata": {
    "collapsed": false
   },
   "source": [
    "# Real data\n",
    "\n",
    "Results in X, Y"
   ]
  },
  {
   "cell_type": "code",
   "execution_count": 2,
   "metadata": {
    "collapsed": false
   },
   "outputs": [],
   "source": [
    "dataPath = \"../data/\"\n",
    "\n",
    "# reading CSV file\n",
    "reader = csv.reader(open(dataPath + 'features_2.csv', 'r'), delimiter=',')\n",
    "data_full = np.array(list(reader))\n",
    "reader = csv.reader(open(dataPath + 'all_endpoints_with_missing_values_012615.csv', 'r'), delimiter=',')\n",
    "activity_full = np.array(list(reader))"
   ]
  },
  {
   "cell_type": "code",
   "execution_count": 3,
   "metadata": {
    "collapsed": false
   },
   "outputs": [
    {
     "name": "stdout",
     "output_type": "stream",
     "text": [
      "Protein names equality check: True\n"
     ]
    }
   ],
   "source": [
    "# feature names\n",
    "feature_names = data_full[0, 1:]\n",
    "\n",
    "# names of the proteins\n",
    "protein_names = data_full[1:, 0]\n",
    "protein_names1 = activity_full[1:, 0]\n",
    "print 'Protein names equality check:', np.array_equal(protein_names1, protein_names)\n",
    "\n",
    "# names of receptors\n",
    "receptor_names = activity_full[0, 1:]\n",
    "\n",
    "# Object-Feature matrix (proteins description)\n",
    "X = data_full[1:, 1:].astype('double')\n",
    "\n",
    "# Activity matrix\n",
    "Y = activity_full[1:, 1:].astype('int16')\n",
    "\n",
    "# Removing constant features\n",
    "ind = np.var(X, axis = 0) != 0\n",
    "X = X[:, ind]\n",
    "feature_names = feature_names[ind]\n",
    "\n",
    "# Number of features\n",
    "N = X.shape[1]"
   ]
  },
  {
   "cell_type": "code",
   "execution_count": 4,
   "metadata": {
    "collapsed": false
   },
   "outputs": [
    {
     "name": "stdout",
     "output_type": "stream",
     "text": [
      "['NR-AhR' 'NR-AR-LBD' 'NR-AR' 'SR-MMP' 'NR-ER' 'SR-HSE' 'SR-p53'\n",
      " 'NR-PPAR-gamma' 'SR-ARE' 'NR-Aromatase' 'SR-ATAD5' 'NR-ER-LBD']\n"
     ]
    }
   ],
   "source": [
    "print receptor_names"
   ]
  },
  {
   "cell_type": "markdown",
   "metadata": {
    "collapsed": false
   },
   "source": [
    "# Model data\n",
    "\n",
    "Results in Xm, Ym"
   ]
  },
  {
   "cell_type": "code",
   "execution_count": 2,
   "metadata": {
    "collapsed": false
   },
   "outputs": [
    {
     "data": {
      "image/png": "[encoded data removed]",
      "text/plain": [
       "<matplotlib.figure.Figure at 0x7f646c75ffd0>"
      ]
     },
     "metadata": {},
     "output_type": "display_data"
    }
   ],
   "source": [
    "import ModelData\n",
    "reload(ModelData)            \n",
    "\n",
    "m = 500\n",
    "\n",
    "# Model data\n",
    "Xm, Ym = ModelData.get(m)\n",
    "\n",
    "# Enable to show and save a chart\n",
    "ModelData.plotDistribution()\n",
    "\n",
    "# Number of classes\n",
    "l = ModelData.l"
   ]
  },
  {
   "cell_type": "markdown",
   "metadata": {},
   "source": [
    "## Base estimator\n",
    "\n",
    "Will use it for both BR and PCC"
   ]
  },
  {
   "cell_type": "code",
   "execution_count": 3,
   "metadata": {
    "collapsed": true
   },
   "outputs": [],
   "source": [
    "estimator = LR(class_weight = 'balanced', fit_intercept = True, solver='liblinear', n_jobs=2)"
   ]
  },
  {
   "cell_type": "markdown",
   "metadata": {},
   "source": [
    "## Cross validation strategy"
   ]
  },
  {
   "cell_type": "code",
   "execution_count": 4,
   "metadata": {
    "collapsed": true
   },
   "outputs": [],
   "source": [
    "cv = KFold(Xm.shape[0], n_folds = 5)"
   ]
  },
  {
   "cell_type": "markdown",
   "metadata": {},
   "source": [
    "## Array of metrics"
   ]
  },
  {
   "cell_type": "code",
   "execution_count": 6,
   "metadata": {
    "collapsed": false
   },
   "outputs": [],
   "source": [
    "import MLCCV\n",
    "reload(MLCCV)\n",
    "import MLCLoss\n",
    "reload(MLCLoss)\n",
    "\n",
    "# Metrics for each column\n",
    "column_metrics = {\"H\": MLCLoss.HammingLossN, \"P\": precision_score, \"R\": recall_score, \"AUC\": roc_auc_score}\n",
    "\n",
    "# Metrics for whole matrices\n",
    "metrics = {\"S\": MLCLoss.subsetLossN, \"H\": MLCLoss.HammingLossN}\n",
    "\n",
    "# Make a matrix metric from column metric\n",
    "for m in column_metrics:\n",
    "    for i in range(1, l + 1):\n",
    "        metrics[m + \" \" + str(i)] = partial(MLCCV.metric_ith_column, f = column_metrics[m], i = i - 1)"
   ]
  },
  {
   "cell_type": "markdown",
   "metadata": {},
   "source": [
    "## Results"
   ]
  },
  {
   "cell_type": "code",
   "execution_count": 7,
   "metadata": {
    "collapsed": false
   },
   "outputs": [],
   "source": [
    "# result: classifiers x metrics x folds\n",
    "result = {}"
   ]
  },
  {
   "cell_type": "markdown",
   "metadata": {},
   "source": [
    "## Training BR"
   ]
  },
  {
   "cell_type": "code",
   "execution_count": 8,
   "metadata": {
    "collapsed": false
   },
   "outputs": [],
   "source": [
    "BR = OneVsRestClassifier(estimator, n_jobs = 3)\n",
    "\n",
    "result[\"BR\"] = MLCCV.cross_val_score_multiple_metrics(estimator = BR, metrics = metrics,\n",
    "                                cv = cv, X = Xm, Y = Ym)"
   ]
  },
  {
   "cell_type": "markdown",
   "metadata": {
    "collapsed": false
   },
   "source": [
    "## Array of losses for PCC"
   ]
  },
  {
   "cell_type": "code",
   "execution_count": 9,
   "metadata": {
    "collapsed": true
   },
   "outputs": [],
   "source": [
    "losses = {\"H\": MLCLoss.HammingLoss, \"S\": MLCLoss.subsetLoss}\n",
    "losses['M1'] = partial(MLCLoss.middleLoss, t = [0, 2, 5, 10])\n",
    "losses['M2'] = partial(MLCLoss.middleLoss, t = [0, 2, 2, 10])\n",
    "losses['M3'] = partial(MLCLoss.middleLoss, t = [0, 0, 2, 10])\n",
    "\n",
    "# Array of middle losses\n",
    "#x1 = 0\n",
    "#step = 0.5\n",
    "#while x1 <= 10:\n",
    "#    x2 = x1\n",
    "#    while x2 <= 10:\n",
    "#        losses[\"M\" + str((0, x1, x2, 10))] = partial(MLCLoss.middleLoss, t = [0, x1, x2, 10])\n",
    "#        x2 += step\n",
    "#    x1 += step"
   ]
  },
  {
   "cell_type": "markdown",
   "metadata": {},
   "source": [
    "## Training PCC"
   ]
  },
  {
   "cell_type": "code",
   "execution_count": 10,
   "metadata": {
    "collapsed": false
   },
   "outputs": [
    {
     "name": "stdout",
     "output_type": "stream",
     "text": [
      "PCC LOSS H\n",
      "i=0 coef=[[ 0.95755582]]\n",
      "i=1 coef=[[ 1.00421775 -1.70515025]]\n",
      "i=2 coef=[[ 0.95716885  3.92735855 -1.82228142]]\n",
      "i=0 coef=[[ 1.00385705]]\n",
      "i=1 coef=[[ 1.13721927 -1.77573205]]\n",
      "i=2 coef=[[ 1.02268347  3.84347676 -1.82419117]]\n",
      "i=0 coef=[[ 0.9807998]]\n",
      "i=1 coef=[[ 1.07846579 -1.69430062]]\n",
      "i=2 coef=[[ 1.06639847  3.77894423 -1.82590549]]\n",
      "i=0 coef=[[ 1.08521417]]\n",
      "i=1 coef=[[ 0.96417212 -1.64942811]]\n",
      "i=2 coef=[[ 1.12647809  3.82504967 -2.05797822]]\n",
      "i=0 coef=[[ 1.05777553]]\n",
      "i=1 coef=[[ 1.03025172 -1.67051632]]\n",
      "i=2 coef=[[ 1.06941776  3.84383498 -1.96045164]]\n",
      "PCC LOSS S\n",
      "i=0 coef=[[ 0.95755582]]\n",
      "i=1 coef=[[ 1.00421775 -1.70515025]]\n",
      "i=2 coef=[[ 0.95716885  3.92735855 -1.82228142]]\n",
      "i=0 coef=[[ 1.00385705]]\n",
      "i=1 coef=[[ 1.13721927 -1.77573205]]\n",
      "i=2 coef=[[ 1.02268347  3.84347676 -1.82419117]]\n",
      "i=0 coef=[[ 0.9807998]]\n",
      "i=1 coef=[[ 1.07846579 -1.69430062]]\n",
      "i=2 coef=[[ 1.06639847  3.77894423 -1.82590549]]\n",
      "i=0 coef=[[ 1.08521417]]\n",
      "i=1 coef=[[ 0.96417212 -1.64942811]]\n",
      "i=2 coef=[[ 1.12647809  3.82504967 -2.05797822]]\n",
      "i=0 coef=[[ 1.05777553]]\n",
      "i=1 coef=[[ 1.03025172 -1.67051632]]\n",
      "i=2 coef=[[ 1.06941776  3.84383498 -1.96045164]]\n",
      "PCC LOSS M1\n",
      "i=0 coef=[[ 0.95755582]]\n",
      "i=1 coef=[[ 1.00421775 -1.70515025]]\n",
      "i=2 coef=[[ 0.95716885  3.92735855 -1.82228142]]\n",
      "i=0 coef=[[ 1.00385705]]\n",
      "i=1 coef=[[ 1.13721927 -1.77573205]]\n",
      "i=2 coef=[[ 1.02268347  3.84347676 -1.82419117]]\n",
      "i=0 coef=[[ 0.9807998]]\n",
      "i=1 coef=[[ 1.07846579 -1.69430062]]\n",
      "i=2 coef=[[ 1.06639847  3.77894423 -1.82590549]]\n",
      "i=0 coef=[[ 1.08521417]]\n",
      "i=1 coef=[[ 0.96417212 -1.64942811]]\n",
      "i=2 coef=[[ 1.12647809  3.82504967 -2.05797822]]\n",
      "i=0 coef=[[ 1.05777553]]\n",
      "i=1 coef=[[ 1.03025172 -1.67051632]]\n",
      "i=2 coef=[[ 1.06941776  3.84383498 -1.96045164]]\n",
      "PCC LOSS M3\n",
      "i=0 coef=[[ 0.95755582]]\n",
      "i=1 coef=[[ 1.00421775 -1.70515025]]\n",
      "i=2 coef=[[ 0.95716885  3.92735855 -1.82228142]]\n",
      "i=0 coef=[[ 1.00385705]]\n",
      "i=1 coef=[[ 1.13721927 -1.77573205]]\n",
      "i=2 coef=[[ 1.02268347  3.84347676 -1.82419117]]\n",
      "i=0 coef=[[ 0.9807998]]\n",
      "i=1 coef=[[ 1.07846579 -1.69430062]]\n",
      "i=2 coef=[[ 1.06639847  3.77894423 -1.82590549]]\n",
      "i=0 coef=[[ 1.08521417]]\n",
      "i=1 coef=[[ 0.96417212 -1.64942811]]\n",
      "i=2 coef=[[ 1.12647809  3.82504967 -2.05797822]]\n",
      "i=0 coef=[[ 1.05777553]]\n",
      "i=1 coef=[[ 1.03025172 -1.67051632]]\n",
      "i=2 coef=[[ 1.06941776  3.84383498 -1.96045164]]\n",
      "PCC LOSS M2\n",
      "i=0 coef=[[ 0.95755582]]\n",
      "i=1 coef=[[ 1.00421775 -1.70515025]]\n",
      "i=2 coef=[[ 0.95716885  3.92735855 -1.82228142]]\n",
      "i=0 coef=[[ 1.00385705]]\n",
      "i=1 coef=[[ 1.13721927 -1.77573205]]\n",
      "i=2 coef=[[ 1.02268347  3.84347676 -1.82419117]]\n",
      "i=0 coef=[[ 0.9807998]]\n",
      "i=1 coef=[[ 1.07846579 -1.69430062]]\n",
      "i=2 coef=[[ 1.06639847  3.77894423 -1.82590549]]\n",
      "i=0 coef=[[ 1.08521417]]\n",
      "i=1 coef=[[ 0.96417212 -1.64942811]]\n",
      "i=2 coef=[[ 1.12647809  3.82504967 -2.05797822]]\n",
      "i=0 coef=[[ 1.05777553]]\n",
      "i=1 coef=[[ 1.03025172 -1.67051632]]\n",
      "i=2 coef=[[ 1.06941776  3.84383498 -1.96045164]]\n"
     ]
    }
   ],
   "source": [
    "import PCC\n",
    "reload(PCC)\n",
    "for loss in losses:\n",
    "    print \"PCC LOSS \" + loss\n",
    "    classifier = PCC.PCC(estimator = estimator, loss = losses[loss])\n",
    "    \n",
    "    result[\"PCC_\" + loss] = MLCCV.cross_val_score_multiple_metrics(estimator = classifier, metrics = metrics,\n",
    "                                cv = cv, X = Xm, Y = Ym)"
   ]
  },
  {
   "cell_type": "markdown",
   "metadata": {},
   "source": [
    "## Finding best loss function for a metric"
   ]
  },
  {
   "cell_type": "code",
   "execution_count": 11,
   "metadata": {
    "collapsed": false
   },
   "outputs": [
    {
     "name": "stdout",
     "output_type": "stream",
     "text": [
      "PCC_S [0.66, 0.6, 0.6, 0.7, 0.61]\n",
      "PCC_M3 [0.79, 0.77, 0.78, 0.79, 0.77]\n",
      "PCC_H [0.29333333333333333, 0.31333333333333335, 0.3333333333333333, 0.36, 0.3466666666666667]\n",
      "PCC_S [0.36333333333333334, 0.31, 0.35, 0.43666666666666665, 0.3566666666666667]\n"
     ]
    }
   ],
   "source": [
    "ModelData.bestLoss(result, \"S\")\n",
    "ModelData.bestLoss(result, \"H\")"
   ]
  },
  {
   "cell_type": "markdown",
   "metadata": {},
   "source": [
    "## Printing results"
   ]
  },
  {
   "cell_type": "code",
   "execution_count": 12,
   "metadata": {
    "collapsed": false
   },
   "outputs": [],
   "source": [
    "res_mean_std = {}\n",
    "for a in result:\n",
    "    res_mean_std[a] = {}\n",
    "    for b in result[a]:\n",
    "        m = np.mean(result[a][b])\n",
    "        s = np.std(result[a][b])\n",
    "        r = \"%0.2g +- %0.1g\" % (m, s)\n",
    "        #print a,b,r\n",
    "        res_mean_std[a][b] = r\n",
    "df = pandas.DataFrame(res_mean_std)\n",
    "#df.to_csv(\"ModelData_SearchingForLossFunction.csv\", sep='\\t', encoding='utf-8')\n",
    "#df.to_csv(\"ModelData_Result.csv\", sep='\\t', encoding='utf-8')"
   ]
  },
  {
   "cell_type": "code",
   "execution_count": 13,
   "metadata": {
    "collapsed": false
   },
   "outputs": [
    {
     "data": {
      "text/html": [
       "<div>\n",
       "<table border=\"1\" class=\"dataframe\">\n",
       "  <thead>\n",
       "    <tr style=\"text-align: right;\">\n",
       "      <th></th>\n",
       "      <th>BR</th>\n",
       "      <th>PCC_H</th>\n",
       "      <th>PCC_M1</th>\n",
       "      <th>PCC_M2</th>\n",
       "      <th>PCC_M3</th>\n",
       "      <th>PCC_S</th>\n",
       "    </tr>\n",
       "  </thead>\n",
       "  <tbody>\n",
       "    <tr>\n",
       "      <th>AUC 1</th>\n",
       "      <td>0.68 +- 0.05</td>\n",
       "      <td>0.68 +- 0.05</td>\n",
       "      <td>0.68 +- 0.04</td>\n",
       "      <td>0.68 +- 0.03</td>\n",
       "      <td>0.67 +- 0.04</td>\n",
       "      <td>0.68 +- 0.04</td>\n",
       "    </tr>\n",
       "    <tr>\n",
       "      <th>AUC 2</th>\n",
       "      <td>0.64 +- 0.05</td>\n",
       "      <td>0.63 +- 0.05</td>\n",
       "      <td>0.61 +- 0.05</td>\n",
       "      <td>0.62 +- 0.05</td>\n",
       "      <td>0.58 +- 0.07</td>\n",
       "      <td>0.54 +- 0.05</td>\n",
       "    </tr>\n",
       "    <tr>\n",
       "      <th>AUC 3</th>\n",
       "      <td>0.66 +- 0.05</td>\n",
       "      <td>0.67 +- 0.06</td>\n",
       "      <td>0.66 +- 0.05</td>\n",
       "      <td>0.65 +- 0.03</td>\n",
       "      <td>0.62 +- 0.02</td>\n",
       "      <td>0.67 +- 0.05</td>\n",
       "    </tr>\n",
       "    <tr>\n",
       "      <th>H</th>\n",
       "      <td>0.34 +- 0.02</td>\n",
       "      <td>0.33 +- 0.02</td>\n",
       "      <td>0.34 +- 0.02</td>\n",
       "      <td>0.34 +- 0.01</td>\n",
       "      <td>0.36 +- 0.01</td>\n",
       "      <td>0.36 +- 0.04</td>\n",
       "    </tr>\n",
       "    <tr>\n",
       "      <th>H 1</th>\n",
       "      <td>0.32 +- 0.05</td>\n",
       "      <td>0.32 +- 0.05</td>\n",
       "      <td>0.33 +- 0.03</td>\n",
       "      <td>0.33 +- 0.03</td>\n",
       "      <td>0.35 +- 0.04</td>\n",
       "      <td>0.32 +- 0.04</td>\n",
       "    </tr>\n",
       "    <tr>\n",
       "      <th>H 2</th>\n",
       "      <td>0.37 +- 0.04</td>\n",
       "      <td>0.38 +- 0.04</td>\n",
       "      <td>0.39 +- 0.04</td>\n",
       "      <td>0.39 +- 0.04</td>\n",
       "      <td>0.43 +- 0.04</td>\n",
       "      <td>0.46 +- 0.05</td>\n",
       "    </tr>\n",
       "    <tr>\n",
       "      <th>H 3</th>\n",
       "      <td>0.32 +- 0.05</td>\n",
       "      <td>0.29 +- 0.05</td>\n",
       "      <td>0.29 +- 0.05</td>\n",
       "      <td>0.29 +- 0.03</td>\n",
       "      <td>0.31 +- 0.03</td>\n",
       "      <td>0.3 +- 0.05</td>\n",
       "    </tr>\n",
       "    <tr>\n",
       "      <th>P 1</th>\n",
       "      <td>0.68 +- 0.1</td>\n",
       "      <td>0.68 +- 0.1</td>\n",
       "      <td>0.73 +- 0.06</td>\n",
       "      <td>0.78 +- 0.04</td>\n",
       "      <td>0.82 +- 0.05</td>\n",
       "      <td>0.59 +- 0.07</td>\n",
       "    </tr>\n",
       "    <tr>\n",
       "      <th>P 2</th>\n",
       "      <td>0.63 +- 0.06</td>\n",
       "      <td>0.61 +- 0.06</td>\n",
       "      <td>0.56 +- 0.05</td>\n",
       "      <td>0.56 +- 0.05</td>\n",
       "      <td>0.45 +- 0.07</td>\n",
       "      <td>0.53 +- 0.04</td>\n",
       "    </tr>\n",
       "    <tr>\n",
       "      <th>P 3</th>\n",
       "      <td>0.7 +- 0.1</td>\n",
       "      <td>0.58 +- 0.1</td>\n",
       "      <td>0.54 +- 0.09</td>\n",
       "      <td>0.44 +- 0.07</td>\n",
       "      <td>0.31 +- 0.07</td>\n",
       "      <td>0.68 +- 0.1</td>\n",
       "    </tr>\n",
       "    <tr>\n",
       "      <th>R 1</th>\n",
       "      <td>0.67 +- 0.06</td>\n",
       "      <td>0.67 +- 0.06</td>\n",
       "      <td>0.65 +- 0.04</td>\n",
       "      <td>0.63 +- 0.04</td>\n",
       "      <td>0.6 +- 0.04</td>\n",
       "      <td>0.7 +- 0.04</td>\n",
       "    </tr>\n",
       "    <tr>\n",
       "      <th>R 2</th>\n",
       "      <td>0.65 +- 0.09</td>\n",
       "      <td>0.65 +- 0.1</td>\n",
       "      <td>0.64 +- 0.09</td>\n",
       "      <td>0.64 +- 0.1</td>\n",
       "      <td>0.62 +- 0.1</td>\n",
       "      <td>0.55 +- 0.04</td>\n",
       "    </tr>\n",
       "    <tr>\n",
       "      <th>R 3</th>\n",
       "      <td>0.48 +- 0.06</td>\n",
       "      <td>0.53 +- 0.07</td>\n",
       "      <td>0.53 +- 0.06</td>\n",
       "      <td>0.54 +- 0.05</td>\n",
       "      <td>0.51 +- 0.01</td>\n",
       "      <td>0.5 +- 0.06</td>\n",
       "    </tr>\n",
       "    <tr>\n",
       "      <th>S</th>\n",
       "      <td>0.73 +- 0.02</td>\n",
       "      <td>0.73 +- 0.03</td>\n",
       "      <td>0.75 +- 0.01</td>\n",
       "      <td>0.76 +- 0.01</td>\n",
       "      <td>0.78 +- 0.009</td>\n",
       "      <td>0.63 +- 0.04</td>\n",
       "    </tr>\n",
       "  </tbody>\n",
       "</table>\n",
       "</div>"
      ],
      "text/plain": [
       "                 BR         PCC_H        PCC_M1        PCC_M2         PCC_M3  \\\n",
       "AUC 1  0.68 +- 0.05  0.68 +- 0.05  0.68 +- 0.04  0.68 +- 0.03   0.67 +- 0.04   \n",
       "AUC 2  0.64 +- 0.05  0.63 +- 0.05  0.61 +- 0.05  0.62 +- 0.05   0.58 +- 0.07   \n",
       "AUC 3  0.66 +- 0.05  0.67 +- 0.06  0.66 +- 0.05  0.65 +- 0.03   0.62 +- 0.02   \n",
       "H      0.34 +- 0.02  0.33 +- 0.02  0.34 +- 0.02  0.34 +- 0.01   0.36 +- 0.01   \n",
       "H 1    0.32 +- 0.05  0.32 +- 0.05  0.33 +- 0.03  0.33 +- 0.03   0.35 +- 0.04   \n",
       "H 2    0.37 +- 0.04  0.38 +- 0.04  0.39 +- 0.04  0.39 +- 0.04   0.43 +- 0.04   \n",
       "H 3    0.32 +- 0.05  0.29 +- 0.05  0.29 +- 0.05  0.29 +- 0.03   0.31 +- 0.03   \n",
       "P 1     0.68 +- 0.1   0.68 +- 0.1  0.73 +- 0.06  0.78 +- 0.04   0.82 +- 0.05   \n",
       "P 2    0.63 +- 0.06  0.61 +- 0.06  0.56 +- 0.05  0.56 +- 0.05   0.45 +- 0.07   \n",
       "P 3      0.7 +- 0.1   0.58 +- 0.1  0.54 +- 0.09  0.44 +- 0.07   0.31 +- 0.07   \n",
       "R 1    0.67 +- 0.06  0.67 +- 0.06  0.65 +- 0.04  0.63 +- 0.04    0.6 +- 0.04   \n",
       "R 2    0.65 +- 0.09   0.65 +- 0.1  0.64 +- 0.09   0.64 +- 0.1    0.62 +- 0.1   \n",
       "R 3    0.48 +- 0.06  0.53 +- 0.07  0.53 +- 0.06  0.54 +- 0.05   0.51 +- 0.01   \n",
       "S      0.73 +- 0.02  0.73 +- 0.03  0.75 +- 0.01  0.76 +- 0.01  0.78 +- 0.009   \n",
       "\n",
       "              PCC_S  \n",
       "AUC 1  0.68 +- 0.04  \n",
       "AUC 2  0.54 +- 0.05  \n",
       "AUC 3  0.67 +- 0.05  \n",
       "H      0.36 +- 0.04  \n",
       "H 1    0.32 +- 0.04  \n",
       "H 2    0.46 +- 0.05  \n",
       "H 3     0.3 +- 0.05  \n",
       "P 1    0.59 +- 0.07  \n",
       "P 2    0.53 +- 0.04  \n",
       "P 3     0.68 +- 0.1  \n",
       "R 1     0.7 +- 0.04  \n",
       "R 2    0.55 +- 0.04  \n",
       "R 3     0.5 +- 0.06  \n",
       "S      0.63 +- 0.04  "
      ]
     },
     "execution_count": 13,
     "metadata": {},
     "output_type": "execute_result"
    }
   ],
   "source": [
    "df"
   ]
  },
  {
   "cell_type": "code",
   "execution_count": 548,
   "metadata": {
    "collapsed": false
   },
   "outputs": [
    {
     "name": "stdout",
     "output_type": "stream",
     "text": [
      "\\begin{tabular}{lllll}\n",
      "\\toprule\n",
      "{} &             BR &         PCC\\_H &         PCC\\_M &         PCC\\_S \\\\\n",
      "\\midrule\n",
      "AUC 1 &   0.69 +- 0.03 &  0.69 +- 0.03 &  0.69 +- 0.02 &  0.69 +- 0.05 \\\\\n",
      "AUC 2 &   0.55 +- 0.04 &  0.55 +- 0.04 &  0.56 +- 0.03 &  0.51 +- 0.04 \\\\\n",
      "AUC 3 &   0.65 +- 0.04 &  0.66 +- 0.02 &  0.64 +- 0.04 &  0.64 +- 0.04 \\\\\n",
      "H     &  0.37 +- 0.009 &  0.36 +- 0.02 &  0.36 +- 0.02 &  0.38 +- 0.04 \\\\\n",
      "H 1   &   0.31 +- 0.03 &  0.31 +- 0.03 &  0.31 +- 0.02 &  0.31 +- 0.05 \\\\\n",
      "H 2   &   0.45 +- 0.04 &  0.45 +- 0.04 &  0.45 +- 0.03 &  0.49 +- 0.05 \\\\\n",
      "H 3   &   0.34 +- 0.03 &   0.3 +- 0.03 &  0.31 +- 0.04 &  0.34 +- 0.03 \\\\\n",
      "P 1   &    0.7 +- 0.06 &   0.7 +- 0.06 &  0.73 +- 0.05 &  0.64 +- 0.05 \\\\\n",
      "P 2   &   0.55 +- 0.04 &  0.51 +- 0.01 &  0.47 +- 0.04 &  0.46 +- 0.07 \\\\\n",
      "P 3   &    0.7 +- 0.06 &  0.56 +- 0.05 &    0.5 +- 0.1 &  0.66 +- 0.05 \\\\\n",
      "R 1   &   0.68 +- 0.04 &  0.68 +- 0.04 &  0.68 +- 0.03 &  0.71 +- 0.05 \\\\\n",
      "R 2   &    0.52 +- 0.1 &   0.53 +- 0.1 &  0.54 +- 0.09 &  0.48 +- 0.05 \\\\\n",
      "R 3   &    0.48 +- 0.1 &  0.53 +- 0.06 &  0.52 +- 0.07 &  0.49 +- 0.09 \\\\\n",
      "S     &   0.78 +- 0.03 &  0.77 +- 0.05 &  0.77 +- 0.05 &  0.62 +- 0.06 \\\\\n",
      "\\bottomrule\n",
      "\\end{tabular}\n",
      "\n"
     ]
    }
   ],
   "source": [
    "print df.to_latex()"
   ]
  },
  {
   "cell_type": "code",
   "execution_count": null,
   "metadata": {
    "collapsed": true
   },
   "outputs": [],
   "source": []
  }
 ],
 "metadata": {
  "kernelspec": {
   "display_name": "Python 2",
   "language": "python",
   "name": "python2"
  },
  "language_info": {
   "codemirror_mode": {
    "name": "ipython",
    "version": 2
   },
   "file_extension": ".py",
   "mimetype": "text/x-python",
   "name": "python",
   "nbconvert_exporter": "python",
   "pygments_lexer": "ipython2",
   "version": "2.7.9"
  }
 },
 "nbformat": 4,
 "nbformat_minor": 0
}
