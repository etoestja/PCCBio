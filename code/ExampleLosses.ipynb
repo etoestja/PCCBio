{
 "cells": [
  {
   "cell_type": "code",
   "execution_count": 29,
   "metadata": {
    "collapsed": false
   },
   "outputs": [],
   "source": [
    "import MLCLoss\n",
    "reload(MLCLoss)\n",
    "import numpy as np\n",
    "from functools import partial\n",
    "from sklearn.metrics import average_precision_score, f1_score"
   ]
  },
  {
   "cell_type": "code",
   "execution_count": 30,
   "metadata": {
    "collapsed": false
   },
   "outputs": [
    {
     "name": "stdout",
     "output_type": "stream",
     "text": [
      "func <function HammingLoss at 0x7f2ac6d4bc08>\n",
      "5\n",
      "1\n",
      "0\n",
      "6\n",
      "func <function HammingLossObjects at 0x7f2ac6d0e398>\n",
      "5\n",
      "1\n",
      "0\n",
      "[5 1 0]\n",
      "func <function HammingLossClasses at 0x7f2ac6d0eaa0>\n",
      "5\n",
      "1\n",
      "0\n",
      "[1 1 2 0 1 1]\n",
      "func <function subsetLoss at 0x7f2ac6d0e5f0>\n",
      "1\n",
      "1\n",
      "0\n",
      "2\n",
      "func <functools.partial object at 0x7f2ac740e890>\n",
      "0.744730679157\n",
      "0.0202247191011\n",
      "nan\n",
      "0.382477699129\n",
      "func <functools.partial object at 0x7f2ac740e470>\n",
      "0.714285714286\n",
      "0.111111111111\n",
      "nan\n",
      "0.412698412698\n"
     ]
    }
   ],
   "source": [
    "v1 = np.array([0,0,0,1,1,1])\n",
    "v2 = np.array([1,1,1,1,0,0])\n",
    "#H = 5\n",
    "#S = 1\n",
    "#H1=1,1,1,0,1,1\n",
    "\n",
    "v3 = np.array([1,1,1,1,0,1])\n",
    "v4 = np.array([1,1,0,1,0,1])\n",
    "#H = 1\n",
    "#S = 1\n",
    "#H1=0,0,1,0,0,0\n",
    "\n",
    "v5 = np.array([0,0,0,0,0,0])\n",
    "v6 = np.array([0,0,0,0,0,0])\n",
    "#H = 0\n",
    "#S = 0\n",
    "#H1=0,0,0,0,0,0\n",
    "\n",
    "A=np.array([v1, v3, v5])\n",
    "B=np.array([v2, v4, v6])\n",
    "#H = 6\n",
    "#S = 2\n",
    "#H1=1,1,2,0,1,1\n",
    "\n",
    "funcs = [MLCLoss.HammingLoss, MLCLoss.HammingLossObjects, MLCLoss.HammingLossClasses, MLCLoss.subsetLoss]\n",
    "\n",
    "funcs.append(partial(MLCLoss.FBetaLoss, beta = 0.3))\n",
    "funcs.append(partial(MLCLoss.FBetaLoss, beta = 1))\n",
    "\n",
    "#for x in [1,2,3,4,5,6]:\n",
    "#    funcs.append(partial(MLCLoss.middleThresoldLoss, t = x))\n",
    "\n",
    "pairs = [[v1, v2], [v3, v4], [v5, v6], [A, B]]\n",
    "\n",
    "for f in funcs:\n",
    "    print \"func \" + str(f)\n",
    "    for p in pairs:\n",
    "        print f(p[0], p[1])"
   ]
  },
  {
   "cell_type": "code",
   "execution_count": 31,
   "metadata": {
    "collapsed": false
   },
   "outputs": [
    {
     "data": {
      "text/plain": [
       "0.45833333333333331"
      ]
     },
     "execution_count": 31,
     "metadata": {},
     "output_type": "execute_result"
    }
   ],
   "source": [
    "average_precision_score(v1,v2)"
   ]
  },
  {
   "cell_type": "code",
   "execution_count": 32,
   "metadata": {
    "collapsed": false
   },
   "outputs": [
    {
     "data": {
      "text/plain": [
       "1.0"
      ]
     },
     "execution_count": 32,
     "metadata": {},
     "output_type": "execute_result"
    }
   ],
   "source": [
    "1-f1_score(v5,v6)"
   ]
  },
  {
   "cell_type": "code",
   "execution_count": 33,
   "metadata": {
    "collapsed": false
   },
   "outputs": [
    {
     "data": {
      "text/plain": [
       "0.41269841269849999"
      ]
     },
     "execution_count": 33,
     "metadata": {},
     "output_type": "execute_result"
    }
   ],
   "source": [
    "np.nanmean([0.714285714286,0.111111111111,np.nan])"
   ]
  },
  {
   "cell_type": "code",
   "execution_count": null,
   "metadata": {
    "collapsed": true
   },
   "outputs": [],
   "source": []
  }
 ],
 "metadata": {
  "kernelspec": {
   "display_name": "Python 2",
   "language": "python",
   "name": "python2"
  },
  "language_info": {
   "codemirror_mode": {
    "name": "ipython",
    "version": 2
   },
   "file_extension": ".py",
   "mimetype": "text/x-python",
   "name": "python",
   "nbconvert_exporter": "python",
   "pygments_lexer": "ipython2",
   "version": "2.7.9"
  }
 },
 "nbformat": 4,
 "nbformat_minor": 0
}
