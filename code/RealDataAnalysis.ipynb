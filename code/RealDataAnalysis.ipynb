{
 "cells": [
  {
   "cell_type": "markdown",
   "metadata": {},
   "source": [
    "# Basic imports"
   ]
  },
  {
   "cell_type": "code",
   "execution_count": 24,
   "metadata": {
    "collapsed": true
   },
   "outputs": [],
   "source": [
    "from functools import partial\n",
    "import pandas, csv\n",
    "import numpy as np\n",
    "%matplotlib inline\n",
    "import matplotlib.pyplot as plt\n",
    "\n",
    "from sklearn.linear_model import LogisticRegression as LR\n",
    "from sklearn.metrics import roc_curve, auc, hamming_loss, zero_one_loss, \\\n",
    "    jaccard_similarity_score, precision_score, recall_score, roc_auc_score, make_scorer\n",
    "from sklearn.cross_validation import StratifiedKFold as SKF, cross_val_score, KFold\n",
    "from sklearn import cross_validation\n",
    "from scipy.special import expit\n",
    "from sklearn.multiclass import OneVsRestClassifier\n",
    "import numpy"
   ]
  },
  {
   "cell_type": "markdown",
   "metadata": {
    "collapsed": false
   },
   "source": [
    "# Real data\n",
    "\n",
    "Results in X, Y"
   ]
  },
  {
   "cell_type": "code",
   "execution_count": 2,
   "metadata": {
    "collapsed": false
   },
   "outputs": [],
   "source": [
    "dataPath = \"../data/\"\n",
    "\n",
    "# reading CSV file\n",
    "reader = csv.reader(open(dataPath + 'features_2.csv', 'r'), delimiter=',')\n",
    "data_full = np.array(list(reader))\n",
    "reader = csv.reader(open(dataPath + 'all_endpoints_with_missing_values_012615.csv', 'r'), delimiter=',')\n",
    "activity_full = np.array(list(reader))\n",
    "badValue = 999"
   ]
  },
  {
   "cell_type": "code",
   "execution_count": 3,
   "metadata": {
    "collapsed": false
   },
   "outputs": [
    {
     "name": "stdout",
     "output_type": "stream",
     "text": [
      "Protein names equality check: True\n"
     ]
    }
   ],
   "source": [
    "# feature names\n",
    "feature_names = data_full[0, 1:]\n",
    "\n",
    "# names of the proteins\n",
    "protein_names = data_full[1:, 0]\n",
    "protein_names1 = activity_full[1:, 0]\n",
    "print 'Protein names equality check:', np.array_equal(protein_names1, protein_names)\n",
    "\n",
    "# names of receptors\n",
    "receptor_names = activity_full[0, 1:]\n",
    "\n",
    "# Object-Feature matrix (proteins description)\n",
    "X = data_full[1:, 1:].astype('double')\n",
    "\n",
    "# Activity matrix\n",
    "Y = activity_full[1:, 1:].astype('int16')\n",
    "\n",
    "# Removing constant features\n",
    "ind = np.var(X, axis = 0) != 0\n",
    "X = X[:, ind]\n",
    "feature_names = feature_names[ind]\n",
    "\n",
    "# Number of features\n",
    "N = X.shape[1]\n",
    "\n",
    "# Normalization\n",
    "df = pandas.DataFrame(X)\n",
    "df_norm = (df - df.mean()) / (df.max() - df.min())\n",
    "X = np.copy(df_norm.as_matrix())"
   ]
  },
  {
   "cell_type": "code",
   "execution_count": 4,
   "metadata": {
    "collapsed": false
   },
   "outputs": [
    {
     "name": "stdout",
     "output_type": "stream",
     "text": [
      "['NR-AhR' 'NR-AR-LBD' 'NR-AR' 'SR-MMP' 'NR-ER' 'SR-HSE' 'SR-p53'\n",
      " 'NR-PPAR-gamma' 'SR-ARE' 'NR-Aromatase' 'SR-ATAD5' 'NR-ER-LBD']\n"
     ]
    }
   ],
   "source": [
    "print receptor_names"
   ]
  },
  {
   "cell_type": "code",
   "execution_count": 5,
   "metadata": {
    "collapsed": false
   },
   "outputs": [],
   "source": [
    "df = pandas.DataFrame(X)"
   ]
  },
  {
   "cell_type": "code",
   "execution_count": 125,
   "metadata": {
    "collapsed": false
   },
   "outputs": [
    {
     "ename": "AttributeError",
     "evalue": "'NoneType' object has no attribute 'is_bbox'",
     "output_type": "error",
     "traceback": [
      "\u001b[1;31m---------------------------------------------------------------------------\u001b[0m",
      "\u001b[1;31mAttributeError\u001b[0m                            Traceback (most recent call last)",
      "\u001b[1;32m<ipython-input-125-c0b790636ddb>\u001b[0m in \u001b[0;36m<module>\u001b[1;34m()\u001b[0m\n\u001b[0;32m      4\u001b[0m \u001b[1;31m#fig.savefig(\"a.svg\", bbox_inches = 'tight')\u001b[0m\u001b[1;33m\u001b[0m\u001b[1;33m\u001b[0m\u001b[0m\n\u001b[0;32m      5\u001b[0m \u001b[1;31m#ax1.grid(b=False)\u001b[0m\u001b[1;33m\u001b[0m\u001b[1;33m\u001b[0m\u001b[0m\n\u001b[1;32m----> 6\u001b[1;33m \u001b[0mfig\u001b[0m\u001b[1;33m.\u001b[0m\u001b[0mtight_layout\u001b[0m\u001b[1;33m(\u001b[0m\u001b[1;33m)\u001b[0m\u001b[1;33m\u001b[0m\u001b[0m\n\u001b[0m\u001b[0;32m      7\u001b[0m \u001b[1;32mfor\u001b[0m \u001b[0mx\u001b[0m \u001b[1;32min\u001b[0m \u001b[0mrange\u001b[0m\u001b[1;33m(\u001b[0m\u001b[0mlout\u001b[0m\u001b[1;33m)\u001b[0m\u001b[1;33m:\u001b[0m\u001b[1;33m\u001b[0m\u001b[0m\n\u001b[0;32m      8\u001b[0m     \u001b[1;32mfor\u001b[0m \u001b[0my\u001b[0m \u001b[1;32min\u001b[0m \u001b[0mrange\u001b[0m\u001b[1;33m(\u001b[0m\u001b[0mlout\u001b[0m\u001b[1;33m)\u001b[0m\u001b[1;33m:\u001b[0m\u001b[1;33m\u001b[0m\u001b[0m\n",
      "\u001b[1;32m/home/etoestja/Documents/j/venv/local/lib/python2.7/site-packages/matplotlib/figure.pyc\u001b[0m in \u001b[0;36mtight_layout\u001b[1;34m(self, renderer, pad, h_pad, w_pad, rect)\u001b[0m\n\u001b[0;32m   1752\u001b[0m                                          \u001b[0mrenderer\u001b[0m\u001b[1;33m,\u001b[0m\u001b[1;33m\u001b[0m\u001b[0m\n\u001b[0;32m   1753\u001b[0m                                          \u001b[0mpad\u001b[0m\u001b[1;33m=\u001b[0m\u001b[0mpad\u001b[0m\u001b[1;33m,\u001b[0m \u001b[0mh_pad\u001b[0m\u001b[1;33m=\u001b[0m\u001b[0mh_pad\u001b[0m\u001b[1;33m,\u001b[0m \u001b[0mw_pad\u001b[0m\u001b[1;33m=\u001b[0m\u001b[0mw_pad\u001b[0m\u001b[1;33m,\u001b[0m\u001b[1;33m\u001b[0m\u001b[0m\n\u001b[1;32m-> 1754\u001b[1;33m                                          rect=rect)\n\u001b[0m\u001b[0;32m   1755\u001b[0m \u001b[1;33m\u001b[0m\u001b[0m\n\u001b[0;32m   1756\u001b[0m         \u001b[0mself\u001b[0m\u001b[1;33m.\u001b[0m\u001b[0msubplots_adjust\u001b[0m\u001b[1;33m(\u001b[0m\u001b[1;33m**\u001b[0m\u001b[0mkwargs\u001b[0m\u001b[1;33m)\u001b[0m\u001b[1;33m\u001b[0m\u001b[0m\n",
      "\u001b[1;32m/home/etoestja/Documents/j/venv/local/lib/python2.7/site-packages/matplotlib/tight_layout.pyc\u001b[0m in \u001b[0;36mget_tight_layout_figure\u001b[1;34m(fig, axes_list, subplotspec_list, renderer, pad, h_pad, w_pad, rect)\u001b[0m\n\u001b[0;32m    347\u001b[0m                                      \u001b[0msubplot_list\u001b[0m\u001b[1;33m=\u001b[0m\u001b[0msubplot_list\u001b[0m\u001b[1;33m,\u001b[0m\u001b[1;33m\u001b[0m\u001b[0m\n\u001b[0;32m    348\u001b[0m                                      \u001b[0max_bbox_list\u001b[0m\u001b[1;33m=\u001b[0m\u001b[0max_bbox_list\u001b[0m\u001b[1;33m,\u001b[0m\u001b[1;33m\u001b[0m\u001b[0m\n\u001b[1;32m--> 349\u001b[1;33m                                      pad=pad, h_pad=h_pad, w_pad=w_pad)\n\u001b[0m\u001b[0;32m    350\u001b[0m \u001b[1;33m\u001b[0m\u001b[0m\n\u001b[0;32m    351\u001b[0m     \u001b[1;32mif\u001b[0m \u001b[0mrect\u001b[0m \u001b[1;32mis\u001b[0m \u001b[1;32mnot\u001b[0m \u001b[0mNone\u001b[0m\u001b[1;33m:\u001b[0m\u001b[1;33m\u001b[0m\u001b[0m\n",
      "\u001b[1;32m/home/etoestja/Documents/j/venv/local/lib/python2.7/site-packages/matplotlib/tight_layout.pyc\u001b[0m in \u001b[0;36mauto_adjust_subplotpars\u001b[1;34m(fig, renderer, nrows_ncols, num1num2_list, subplot_list, ax_bbox_list, pad, h_pad, w_pad, rect)\u001b[0m\n\u001b[0;32m    126\u001b[0m         \u001b[0mtight_bbox_raw\u001b[0m \u001b[1;33m=\u001b[0m \u001b[0munion\u001b[0m\u001b[1;33m(\u001b[0m\u001b[1;33m[\u001b[0m\u001b[0max\u001b[0m\u001b[1;33m.\u001b[0m\u001b[0mget_tightbbox\u001b[0m\u001b[1;33m(\u001b[0m\u001b[0mrenderer\u001b[0m\u001b[1;33m)\u001b[0m \u001b[1;32mfor\u001b[0m \u001b[0max\u001b[0m \u001b[1;32min\u001b[0m \u001b[0msubplots\u001b[0m\u001b[1;33m]\u001b[0m\u001b[1;33m)\u001b[0m\u001b[1;33m\u001b[0m\u001b[0m\n\u001b[0;32m    127\u001b[0m         tight_bbox = TransformedBbox(tight_bbox_raw,\n\u001b[1;32m--> 128\u001b[1;33m                                      fig.transFigure.inverted())\n\u001b[0m\u001b[0;32m    129\u001b[0m \u001b[1;33m\u001b[0m\u001b[0m\n\u001b[0;32m    130\u001b[0m         \u001b[0mrow1\u001b[0m\u001b[1;33m,\u001b[0m \u001b[0mcol1\u001b[0m \u001b[1;33m=\u001b[0m \u001b[0mdivmod\u001b[0m\u001b[1;33m(\u001b[0m\u001b[0mnum1\u001b[0m\u001b[1;33m,\u001b[0m \u001b[0mcols\u001b[0m\u001b[1;33m)\u001b[0m\u001b[1;33m\u001b[0m\u001b[0m\n",
      "\u001b[1;32m/home/etoestja/Documents/j/venv/local/lib/python2.7/site-packages/matplotlib/transforms.pyc\u001b[0m in \u001b[0;36m__init__\u001b[1;34m(self, bbox, transform, **kwargs)\u001b[0m\n\u001b[0;32m   1069\u001b[0m         \u001b[1;33m*\u001b[0m\u001b[0mtransform\u001b[0m\u001b[1;33m*\u001b[0m\u001b[1;33m:\u001b[0m \u001b[0ma\u001b[0m \u001b[1;36m2\u001b[0m\u001b[0mD\u001b[0m \u001b[1;33m:\u001b[0m\u001b[1;32mclass\u001b[0m\u001b[1;33m:\u001b[0m\u001b[1;33m`\u001b[0m\u001b[0mTransform\u001b[0m\u001b[1;33m`\u001b[0m\u001b[1;33m\u001b[0m\u001b[0m\n\u001b[0;32m   1070\u001b[0m         \"\"\"\n\u001b[1;32m-> 1071\u001b[1;33m         \u001b[1;32mif\u001b[0m \u001b[1;32mnot\u001b[0m \u001b[0mbbox\u001b[0m\u001b[1;33m.\u001b[0m\u001b[0mis_bbox\u001b[0m\u001b[1;33m:\u001b[0m\u001b[1;33m\u001b[0m\u001b[0m\n\u001b[0m\u001b[0;32m   1072\u001b[0m             \u001b[1;32mraise\u001b[0m \u001b[0mValueError\u001b[0m\u001b[1;33m(\u001b[0m\u001b[1;34m\"'bbox' is not a bbox\"\u001b[0m\u001b[1;33m)\u001b[0m\u001b[1;33m\u001b[0m\u001b[0m\n\u001b[0;32m   1073\u001b[0m         \u001b[1;32mif\u001b[0m \u001b[1;32mnot\u001b[0m \u001b[0misinstance\u001b[0m\u001b[1;33m(\u001b[0m\u001b[0mtransform\u001b[0m\u001b[1;33m,\u001b[0m \u001b[0mTransform\u001b[0m\u001b[1;33m)\u001b[0m\u001b[1;33m:\u001b[0m\u001b[1;33m\u001b[0m\u001b[0m\n",
      "\u001b[1;31mAttributeError\u001b[0m: 'NoneType' object has no attribute 'is_bbox'"
     ]
    },
    {
     "data": {
      "image/png": "[encoded data removed]",
      "text/plain": [
       "<matplotlib.figure.Figure at 0x7fe6d80df390>"
      ]
     },
     "metadata": {},
     "output_type": "display_data"
    }
   ],
   "source": [
    "fig, ax = plt.subplots()\n",
    "lout=2\n",
    "ax1 = df.hist(xlabelsize=0,ylabelsize=0, figsize=(15, 15), layout=(lout,lout),sharey=True, column=[1,2],ax=ax,grid=False)\n",
    "#fig.savefig(\"a.svg\", bbox_inches = 'tight')\n",
    "#ax1.grid(b=False)\n",
    "fig.tight_layout()\n",
    "for x in range(lout):\n",
    "    for y in range(lout):\n",
    "        ax1[x][y].tick_params(\n",
    "            axis='x',          # changes apply to the x-axis\n",
    "            which='both',      # both major and minor ticks are affected\n",
    "            bottom='off',      # ticks along the bottom edge are off\n",
    "            top='off',         # ticks along the top edge are off\n",
    "            labelbottom='off') # labels along the bottom edge are off\n",
    "        ax1[x][y].tick_params(\n",
    "            axis='y',          # changes apply to the x-axis\n",
    "            which='both',      # both major and minor ticks are affected\n",
    "            left='off',      # ticks along the bottom edge are off\n",
    "            right='off',         # ticks along the top edge are off\n",
    "            labelbottom='off') # labels along the bottom edge are off\n",
    "        ax1[x][y].get_xaxis().set_visible(False)\n",
    "        ax1[x][y].get_yaxis().set_visible(False)\n",
    "        ax1[x][y].axis('off')\n",
    "        ax1[x][y].set_axis_off()\n",
    "        \n",
    "fig.show()"
   ]
  },
  {
   "cell_type": "code",
   "execution_count": 120,
   "metadata": {
    "collapsed": false
   },
   "outputs": [],
   "source": [
    "fig.savefig(\"sdf.png\")"
   ]
  },
  {
   "cell_type": "code",
   "execution_count": 118,
   "metadata": {
    "collapsed": false,
    "scrolled": false
   },
   "outputs": [],
   "source": [
    "fig.savefig(\"RealDataDistr.svg\", bbox_inches = 'tight')"
   ]
  },
  {
   "cell_type": "code",
   "execution_count": 9,
   "metadata": {
    "collapsed": true
   },
   "outputs": [],
   "source": [
    "from statsmodels.stats.outliers_influence import variance_inflation_factor"
   ]
  },
  {
   "cell_type": "code",
   "execution_count": 15,
   "metadata": {
    "collapsed": false
   },
   "outputs": [
    {
     "name": "stdout",
     "output_type": "stream",
     "text": [
      "0\n",
      "1\n",
      "2\n",
      "3\n",
      "4\n",
      "5\n",
      "6\n",
      "7\n",
      "8\n",
      "9\n",
      "10\n",
      "11\n",
      "12\n",
      "13\n",
      "14\n",
      "15\n",
      "16\n",
      "17\n",
      "18\n",
      "19\n",
      "20\n",
      "21\n",
      "22\n",
      "23\n",
      "24\n",
      "25\n",
      "26\n",
      "27\n",
      "28\n",
      "29\n",
      "30\n",
      "31\n",
      "32\n",
      "33\n",
      "34\n",
      "35\n",
      "36\n",
      "37\n",
      "38\n",
      "39\n",
      "40\n",
      "41\n",
      "42\n",
      "43\n",
      "44\n",
      "45\n",
      "46\n",
      "47\n",
      "48\n",
      "49\n",
      "50\n",
      "51\n",
      "52\n",
      "53\n",
      "54\n",
      "55\n",
      "56\n",
      "57\n",
      "58\n",
      "59\n",
      "60\n",
      "61\n",
      "62\n",
      "63\n",
      "64\n",
      "65\n",
      "66\n",
      "67\n",
      "68\n",
      "69\n",
      "70\n",
      "71\n",
      "72\n",
      "73\n",
      "74\n",
      "75\n",
      "76\n",
      "77\n",
      "78\n",
      "79\n",
      "80\n",
      "81\n",
      "82\n",
      "83\n",
      "84\n",
      "85\n",
      "86\n",
      "87\n",
      "88\n",
      "89\n",
      "90\n",
      "91\n",
      "92\n",
      "93\n",
      "94\n",
      "95\n",
      "96\n",
      "97\n",
      "98\n",
      "99\n",
      "100\n",
      "101\n",
      "102\n",
      "103\n",
      "104\n",
      "105\n",
      "106\n",
      "107\n",
      "108\n",
      "109\n",
      "110\n",
      "111\n",
      "112\n",
      "113\n",
      "114\n",
      "115\n",
      "116\n",
      "117\n",
      "118\n",
      "119\n",
      "120\n",
      "121\n",
      "122\n",
      "123\n",
      "124\n",
      "125\n",
      "126\n",
      "127\n",
      "128\n",
      "129\n",
      "130\n",
      "131\n",
      "132\n",
      "133\n",
      "134\n",
      "135\n",
      "136\n",
      "137\n",
      "138\n",
      "139\n",
      "140\n",
      "141\n",
      "142\n",
      "143\n",
      "144\n",
      "145\n",
      "146\n",
      "147\n",
      "148\n",
      "149\n",
      "150\n",
      "151\n",
      "152\n",
      "153\n",
      "154\n",
      "155\n",
      "156\n",
      "157\n",
      "158\n",
      "159\n",
      "160\n",
      "161\n",
      "162\n",
      "163\n",
      "164\n"
     ]
    }
   ],
   "source": [
    "res = {}\n",
    "for i in range(X.shape[1]):\n",
    "    res[i] = variance_inflation_factor(X, i)\n",
    "    print i"
   ]
  },
  {
   "cell_type": "code",
   "execution_count": 16,
   "metadata": {
    "collapsed": false
   },
   "outputs": [
    {
     "data": {
      "text/plain": [
       "{0: 388.32369431051688,\n",
       " 1: 31.864092924157728,\n",
       " 2: 43.638062670902407,\n",
       " 3: 340.86278926876787,\n",
       " 4: 154.00350099764771,\n",
       " 5: 6172.00364483267,\n",
       " 6: 20.264713668616459,\n",
       " 7: 444.17328693321429,\n",
       " 8: 422.99471126809368,\n",
       " 9: 53.18526650327123,\n",
       " 10: 92.375473546282052,\n",
       " 11: 394.99595624907516,\n",
       " 12: 32.513776402358829,\n",
       " 13: 42.537738990843955,\n",
       " 14: 54.535943420766884,\n",
       " 15: 58.022167682575585,\n",
       " 16: 485.0253124188983,\n",
       " 17: 80.340560373140036,\n",
       " 18: 95.120957368002792,\n",
       " 19: 377.24947769740118,\n",
       " 20: 6.0815827349769904,\n",
       " 21: 13.817330188218669,\n",
       " 22: 21.822014180128512,\n",
       " 23: 1532.115733594645,\n",
       " 24: 7.8955732435445283,\n",
       " 25: 14.850107592080715,\n",
       " 26: 21.267237067666809,\n",
       " 27: 592.53461389186339,\n",
       " 28: 10.449112841961254,\n",
       " 29: 20.705662045069147,\n",
       " 30: 34.749848061593774,\n",
       " 31: 2117.0065469509263,\n",
       " 32: 1824.2606349602836,\n",
       " 33: 57765236.873090565,\n",
       " 34: 22431034.585935231,\n",
       " 35: 22.511426488423055,\n",
       " 36: 766615.11487193534,\n",
       " 37: 202.39419359619549,\n",
       " 38: 69.414891239379699,\n",
       " 39: 4387989.6010332769,\n",
       " 40: 9530117.215193959,\n",
       " 41: 4103095.8243848239,\n",
       " 42: 1570.3850029994408,\n",
       " 43: 93.876521211606004,\n",
       " 44: 19090822.388070289,\n",
       " 45: 2046.8247381672843,\n",
       " 46: 20691204.963467892,\n",
       " 47: 391352.49627957615,\n",
       " 48: 30099669.690721497,\n",
       " 49: 6281.9551044997106,\n",
       " 50: 3792362.4890681282,\n",
       " 51: 3792362.4890681282,\n",
       " 52: 1.678518600544386,\n",
       " 53: 3531676.9650443941,\n",
       " 54: 475794.7072971969,\n",
       " 55: 16764603.020722913,\n",
       " 56: 134.13472568366944,\n",
       " 57: 3559.480324080333,\n",
       " 58: 20811013.706222724,\n",
       " 59: 166172.12392920323,\n",
       " 60: 694604.83968588628,\n",
       " 61: 11610.559547074821,\n",
       " 62: 21833902.877029013,\n",
       " 63: 6293090.1982966373,\n",
       " 64: 2721.2260926051617,\n",
       " 65: 35102.577912344685,\n",
       " 66: 47853561.834115267,\n",
       " 67: 94517853.392053843,\n",
       " 68: 137507.67766325647,\n",
       " 69: 10869688.865377225,\n",
       " 70: 6890.0976559756264,\n",
       " 71: 18.376240622751812,\n",
       " 72: 529.70379269751004,\n",
       " 73: 3397.2370976038419,\n",
       " 74: 136752.21984409704,\n",
       " 75: 19.969269205850736,\n",
       " 76: 7958.5318443736223,\n",
       " 77: 7960.8948771345049,\n",
       " 78: 4.0393373281407126,\n",
       " 79: 4.9046490156735079,\n",
       " 80: 10700976.554888118,\n",
       " 81: 455974.64801345882,\n",
       " 82: 1018207.083905451,\n",
       " 83: 756223.26507624134,\n",
       " 84: 961355.2328751086,\n",
       " 85: 353038.13514563086,\n",
       " 86: 318826.06430230389,\n",
       " 87: 23377231.737506203,\n",
       " 88: 4464813.6527597485,\n",
       " 89: 2139337.6325934348,\n",
       " 90: 47899.624125362869,\n",
       " 91: 4158934.3960439996,\n",
       " 92: 80776206.160325095,\n",
       " 93: 909691.66693261033,\n",
       " 94: 2716367.161435076,\n",
       " 95: 1863902581.4781787,\n",
       " 96: 864745.82773801184,\n",
       " 97: 142643.99227903405,\n",
       " 98: 16488254.871956425,\n",
       " 99: 7308832.4591243658,\n",
       " 100: 7142793.8984508272,\n",
       " 101: 334785273.45876801,\n",
       " 102: 2224429.3598857257,\n",
       " 103: 627621.84219997365,\n",
       " 104: 87358669.826817006,\n",
       " 105: 617286.87779231183,\n",
       " 106: 85009958.127089724,\n",
       " 107: 85009958.127089724,\n",
       " 108: 1021440.1673949821,\n",
       " 109: 387.85098614101258,\n",
       " 110: 4.3058658107051597,\n",
       " 111: 7.7864874372660475,\n",
       " 112: 5446.1420138717349,\n",
       " 113: 5.062487900446861,\n",
       " 114: 973.29778465521986,\n",
       " 115: 86.376733350814732,\n",
       " 116: 11.354527923679139,\n",
       " 117: 15896.133465015151,\n",
       " 118: 483.68740101381491,\n",
       " 119: 74.331555660678887,\n",
       " 120: 726.0762468322481,\n",
       " 121: 355.78855800288869,\n",
       " 122: 33.013015235641632,\n",
       " 123: 26.455230951452606,\n",
       " 124: 24.896606106974541,\n",
       " 125: 45174049.524272621,\n",
       " 126: 1862.0757590598898,\n",
       " 127: 423644695.25000209,\n",
       " 128: 59.206261054954943,\n",
       " 129: 107.15632978278758,\n",
       " 130: 147.04000537566969,\n",
       " 131: 142.02548482833336,\n",
       " 132: 808.42708456069522,\n",
       " 133: 55.399249694064991,\n",
       " 134: 36.302750842391809,\n",
       " 135: 14.479245751701971,\n",
       " 136: 10.535762910895846,\n",
       " 137: 61935.733694438415,\n",
       " 138: 3121.6393586034956,\n",
       " 139: 5385.3642450571397,\n",
       " 140: 149.09853302093143,\n",
       " 141: 696165.83677648439,\n",
       " 142: 7182755.4514875105,\n",
       " 143: 3163774.3275387986,\n",
       " 144: 1048816.8010137703,\n",
       " 145: 84404011.641714126,\n",
       " 146: 5896312.7418709565,\n",
       " 147: 638471.35559376644,\n",
       " 148: 808604.66969788319,\n",
       " 149: 7876419.0644956259,\n",
       " 150: 716624.27062973415,\n",
       " 151: 5774.1284597674567,\n",
       " 152: 115528012.45090446,\n",
       " 153: 66970260.85615433,\n",
       " 154: 6253856.6683260938,\n",
       " 155: 3954328.2836887958,\n",
       " 156: 1232748.2162585044,\n",
       " 157: 750771.30782765045,\n",
       " 158: 29736941.958048411,\n",
       " 159: 25010445.815318074,\n",
       " 160: 286.40428784727953,\n",
       " 161: 29.740084656967198,\n",
       " 162: 43179853.075930752,\n",
       " 163: 734723.94884620304,\n",
       " 164: 25.761660145499725}"
      ]
     },
     "execution_count": 16,
     "metadata": {},
     "output_type": "execute_result"
    }
   ],
   "source": [
    "res"
   ]
  },
  {
   "cell_type": "code",
   "execution_count": 24,
   "metadata": {
    "collapsed": false
   },
   "outputs": [],
   "source": [
    "arr = []\n",
    "for a in sorted(res):\n",
    "    arr.append(res[a])\n",
    "arr = np.array(arr)"
   ]
  },
  {
   "cell_type": "code",
   "execution_count": 26,
   "metadata": {
    "collapsed": false
   },
   "outputs": [
    {
     "data": {
      "text/plain": [
       "array([ 52,  78, 110,  79, 113,  20, 111,  24,  28, 136, 116,  21, 135,\n",
       "        25,  71,  75,   6,  29,  26,  22,  35, 124, 164, 123, 161,   1,\n",
       "        12, 122,  30, 134,  13,   2,   9,  14, 133,  15, 128,  38, 119,\n",
       "        17, 115,  10,  43,  18, 129,  56, 131, 130, 140,   4,  37, 160,\n",
       "         3, 121,  19, 109,   0,  11,   8,   7, 118,  16,  72,  27, 120,\n",
       "       132, 114,  23,  42,  32, 126,  45,  31,  64, 138,  73,  57, 139,\n",
       "       112, 151,   5,  49,  70,  76,  77,  61, 117,  65,  90, 137,  74,\n",
       "        68,  97,  59,  86,  85,  47,  81,  54, 105, 103, 147,  60, 141,\n",
       "       150, 163, 157,  83,  36, 148,  96,  93,  84,  82, 108, 144, 156,\n",
       "        89, 102,  94, 143,  53,  51,  50, 155,  41,  91,  39,  88, 146,\n",
       "       154,  63, 100, 142,  99, 149,  40,  80,  69,  98,  55,  44,  46,\n",
       "        58,  62,  34,  87, 159, 158,  48, 162, 125,  66,  33, 153,  92,\n",
       "       145, 106, 107, 104,  67, 152, 101, 127,  95])"
      ]
     },
     "execution_count": 26,
     "metadata": {},
     "output_type": "execute_result"
    }
   ],
   "source": [
    "np.argsort(arr)"
   ]
  },
  {
   "cell_type": "code",
   "execution_count": 40,
   "metadata": {
    "collapsed": false
   },
   "outputs": [],
   "source": [
    "arr1 = 1 - 1 / arr"
   ]
  },
  {
   "cell_type": "code",
   "execution_count": 45,
   "metadata": {
    "collapsed": false
   },
   "outputs": [],
   "source": [
    "df = pandas.DataFrame(arr1)\n",
    "df[0] = \"R^2\""
   ]
  },
  {
   "cell_type": "code",
   "execution_count": 52,
   "metadata": {
    "collapsed": false
   },
   "outputs": [
    {
     "data": {
      "text/plain": [
       "(array([  1,   0,   0,   0,   0,   0,   0,   0,   0,   0,   0,   0,   0,\n",
       "          0,   0,   0,   0,   0,   0,   0,   0,   0,   0,   0,   0,   0,\n",
       "          0,   0,   0,   0,   0,   0,   0,   0,   0,   0,   0,   0,   0,\n",
       "          0,   0,   0,   0,   0,   0,   0,   0,   0,   0,   0,   0,   0,\n",
       "          0,   0,   0,   0,   0,   0,   1,   0,   0,   1,   0,   0,   0,\n",
       "          1,   1,   0,   0,   0,   0,   0,   1,   0,   0,   0,   0,   0,\n",
       "          2,   0,   0,   0,   0,   1,   1,   1,   0,   1,   2,   0,   1,\n",
       "          3,   3,   3,   4,   2,   5,   5,  10, 115]),\n",
       " array([ 0.40423657,  0.4101942 ,  0.41615184,  0.42210947,  0.42806711,\n",
       "         0.43402474,  0.43998238,  0.44594001,  0.45189764,  0.45785528,\n",
       "         0.46381291,  0.46977055,  0.47572818,  0.48168582,  0.48764345,\n",
       "         0.49360108,  0.49955872,  0.50551635,  0.51147399,  0.51743162,\n",
       "         0.52338926,  0.52934689,  0.53530452,  0.54126216,  0.54721979,\n",
       "         0.55317743,  0.55913506,  0.5650927 ,  0.57105033,  0.57700796,\n",
       "         0.5829656 ,  0.58892323,  0.59488087,  0.6008385 ,  0.60679614,\n",
       "         0.61275377,  0.6187114 ,  0.62466904,  0.63062667,  0.63658431,\n",
       "         0.64254194,  0.64849958,  0.65445721,  0.66041484,  0.66637248,\n",
       "         0.67233011,  0.67828775,  0.68424538,  0.69020302,  0.69616065,\n",
       "         0.70211828,  0.70807592,  0.71403355,  0.71999119,  0.72594882,\n",
       "         0.73190646,  0.73786409,  0.74382172,  0.74977936,  0.75573699,\n",
       "         0.76169463,  0.76765226,  0.7736099 ,  0.77956753,  0.78552516,\n",
       "         0.7914828 ,  0.79744043,  0.80339807,  0.8093557 ,  0.81531334,\n",
       "         0.82127097,  0.8272286 ,  0.83318624,  0.83914387,  0.84510151,\n",
       "         0.85105914,  0.85701678,  0.86297441,  0.86893204,  0.87488968,\n",
       "         0.88084731,  0.88680495,  0.89276258,  0.89872022,  0.90467785,\n",
       "         0.91063548,  0.91659312,  0.92255075,  0.92850839,  0.93446602,\n",
       "         0.94042366,  0.94638129,  0.95233893,  0.95829656,  0.96425419,\n",
       "         0.97021183,  0.97616946,  0.9821271 ,  0.98808473,  0.99404237,  1.        ]))"
      ]
     },
     "execution_count": 52,
     "metadata": {},
     "output_type": "execute_result"
    }
   ],
   "source": [
    "numpy.histogram(arr1, bins = 100)"
   ]
  },
  {
   "cell_type": "code",
   "execution_count": 66,
   "metadata": {
    "collapsed": false
   },
   "outputs": [
    {
     "data": {
      "image/png": "[encoded data removed]",
      "text/plain": [
       "<matplotlib.figure.Figure at 0x7f6048320750>"
      ]
     },
     "metadata": {},
     "output_type": "display_data"
    }
   ],
   "source": [
    "    plt.rcParams['mathtext.fontset'] = 'stix'\n",
    "    plt.rcParams['font.family'] = 'STIXGeneral'\n",
    "    params = {'text.usetex' : True,\n",
    "       'font.size' : 25,\n",
    "#          'font.family' : 'lmodern',\n",
    "       'text.latex.unicode': True}\n",
    "    plt.rcParams.update(params)\n",
    "params={}\n",
    "plt.rcParams.update(params)\n",
    "plt.hist(arr1, 20, normed=0, facecolor='green', alpha=1)\n",
    "plt.xlabel(r'$R^2$', fontsize=25)\n",
    "plt.ylabel(r'features', fontsize=25)\n",
    "#plt.ylim([0,1])\n",
    "#plt.xlim([1,50])\n",
    "plt.tick_params(axis='both', which='major')\n",
    "plt.savefig(\"RealDataVIF.eps\", bbox_inches = 'tight')\n",
    "plt.show()\n"
   ]
  },
  {
   "cell_type": "code",
   "execution_count": 101,
   "metadata": {
    "collapsed": true
   },
   "outputs": [],
   "source": [
    "params={'text.usetex' : False,\n",
    "       'font.size' : 0,\n",
    "#          'font.family' : 'lmodern',\n",
    "       'text.latex.unicode': True}\n",
    "plt.rcParams.update(params)"
   ]
  },
  {
   "cell_type": "code",
   "execution_count": null,
   "metadata": {
    "collapsed": true
   },
   "outputs": [],
   "source": []
  }
 ],
 "metadata": {
  "kernelspec": {
   "display_name": "Python 2",
   "language": "python",
   "name": "python2"
  },
  "language_info": {
   "codemirror_mode": {
    "name": "ipython",
    "version": 2
   },
   "file_extension": ".py",
   "mimetype": "text/x-python",
   "name": "python",
   "nbconvert_exporter": "python",
   "pygments_lexer": "ipython2",
   "version": "2.7.9"
  }
 },
 "nbformat": 4,
 "nbformat_minor": 0
}
