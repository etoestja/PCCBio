{
 "cells": [
  {
   "cell_type": "code",
   "execution_count": 8,
   "metadata": {
    "collapsed": true
   },
   "outputs": [],
   "source": [
    "import MLCLoss\n",
    "import numpy as np\n",
    "from functools import partial\n",
    "from sklearn.metrics import average_precision_score"
   ]
  },
  {
   "cell_type": "code",
   "execution_count": 6,
   "metadata": {
    "collapsed": false
   },
   "outputs": [
    {
     "name": "stdout",
     "output_type": "stream",
     "text": [
      "func <function HammingLoss at 0x7f0bbb872cf8>\n",
      "5\n",
      "1\n",
      "0\n",
      "6\n",
      "func <function HammingLossObjects at 0x7f0bbb872de8>\n",
      "5\n",
      "1\n",
      "0\n",
      "[5 1 0]\n",
      "func <function HammingLossClasses at 0x7f0bbb872d70>\n",
      "5\n",
      "1\n",
      "0\n",
      "[1 1 2 0 1 1]\n",
      "func <function subsetLoss at 0x7f0bbb872c80>\n",
      "1\n",
      "1\n",
      "0\n",
      "2\n",
      "func <functools.partial object at 0x7f0bbb87ed60>\n",
      "1\n",
      "1\n",
      "0\n",
      "2\n",
      "func <functools.partial object at 0x7f0bbb87edb8>\n",
      "2\n",
      "1\n",
      "0\n",
      "3\n",
      "func <functools.partial object at 0x7f0bbb87ee10>\n",
      "3\n",
      "1\n",
      "0\n",
      "4\n",
      "func <functools.partial object at 0x7f0bbb87ee68>\n",
      "4\n",
      "1\n",
      "0\n",
      "5\n",
      "func <functools.partial object at 0x7f0bbb87eec0>\n",
      "5\n",
      "1\n",
      "0\n",
      "6\n",
      "func <functools.partial object at 0x7f0bbb87ef18>\n",
      "5\n",
      "1\n",
      "0\n",
      "6\n"
     ]
    }
   ],
   "source": [
    "v1 = np.array([0,0,0,1,1,1])\n",
    "v2 = np.array([1,1,1,1,0,0])\n",
    "#H = 5\n",
    "#S = 1\n",
    "#H1=1,1,1,0,1,1\n",
    "\n",
    "v3 = np.array([1,1,1,1,0,1])\n",
    "v4 = np.array([1,1,0,1,0,1])\n",
    "#H = 1\n",
    "#S = 1\n",
    "#H1=0,0,1,0,0,0\n",
    "\n",
    "v5 = np.array([0,0,0,0,0,0])\n",
    "v6 = np.array([0,0,0,0,0,0])\n",
    "#H = 0\n",
    "#S = 0\n",
    "#H1=0,0,0,0,0,0\n",
    "\n",
    "A=np.array([v1, v3, v5])\n",
    "B=np.array([v2, v4, v6])\n",
    "#H = 6\n",
    "#S = 2\n",
    "#H1=1,1,2,0,1,1\n",
    "\n",
    "funcs = [MLCLoss.HammingLoss, MLCLoss.HammingLossObjects, MLCLoss.HammingLossClasses, MLCLoss.subsetLoss]\n",
    "\n",
    "for x in [1,2,3,4,5,6]:\n",
    "    funcs.append(partial(MLCLoss.middleThresoldLoss, t = x))\n",
    "\n",
    "pairs = [[v1, v2], [v3, v4], [v5, v6], [A, B]]\n",
    "\n",
    "for f in funcs:\n",
    "    print \"func \" + str(f)\n",
    "    for p in pairs:\n",
    "        print f(p[0], p[1])"
   ]
  },
  {
   "cell_type": "code",
   "execution_count": 10,
   "metadata": {
    "collapsed": false
   },
   "outputs": [
    {
     "data": {
      "text/plain": [
       "0.45833333333333331"
      ]
     },
     "execution_count": 10,
     "metadata": {},
     "output_type": "execute_result"
    }
   ],
   "source": [
    "average_precision_score(v1,v2)"
   ]
  },
  {
   "cell_type": "code",
   "execution_count": null,
   "metadata": {
    "collapsed": true
   },
   "outputs": [],
   "source": []
  }
 ],
 "metadata": {
  "kernelspec": {
   "display_name": "Python 2",
   "language": "python",
   "name": "python2"
  },
  "language_info": {
   "codemirror_mode": {
    "name": "ipython",
    "version": 2
   },
   "file_extension": ".py",
   "mimetype": "text/x-python",
   "name": "python",
   "nbconvert_exporter": "python",
   "pygments_lexer": "ipython2",
   "version": "2.7.9"
  }
 },
 "nbformat": 4,
 "nbformat_minor": 0
}
